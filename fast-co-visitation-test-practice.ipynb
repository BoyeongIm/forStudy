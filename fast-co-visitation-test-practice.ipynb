{
 "cells": [
  {
   "cell_type": "markdown",
   "id": "ddf9a558",
   "metadata": {
    "_cell_guid": "b1076dfc-b9ad-4769-8c92-a6c4dae69d19",
    "_uuid": "8f2839f25d086af736a60e9eeb907d3b93b6e0e5",
    "papermill": {
     "duration": 0.006736,
     "end_time": "2023-01-29T09:30:51.636354",
     "exception": false,
     "start_time": "2023-01-29T09:30:51.629618",
     "status": "completed"
    },
    "tags": []
   },
   "source": [
    "This notebook builds on all the wonderful work on the co-visitation matrix, most recently by [@radek1](https://www.kaggle.com/radek1) [here](https://www.kaggle.com/code/radek1/co-visitation-matrix-simplified-imprvd-logic).\n",
    "\n",
    "It produces the same result in much less time due to only a few optimizations. Apart from a more modular refactor, I've kept the original lines near the new lines so the improvements are easier to spot."
   ]
  },
  {
   "cell_type": "markdown",
   "id": "0a8563bb",
   "metadata": {
    "papermill": {
     "duration": 0.004778,
     "end_time": "2023-01-29T09:30:51.646383",
     "exception": false,
     "start_time": "2023-01-29T09:30:51.641605",
     "status": "completed"
    },
    "tags": []
   },
   "source": [
    "### Co-visitation Matrix\n",
    "- There exist products that are frequently viewed and bought together. Here we leverage this idea by computing a co-visitation matrix of products.\n",
    "\n",
    "1. First we look at all pairs of events within the same session that are close to each other in time (< 1 day). We compute co-visitation matrix  Maid1,aid2 by counting global number of event pairs for each pair across all sessions.\n",
    "2. For each  aid1,   we find top 20 most frequent aid2: aid2=argsort(M[aid])[-20:]\n",
    "3. We produce test results by concatenating tail(20) of test session events (see https://www.kaggle.com/code/simamumu/old-test-data-last-20-aid-get-lb0-947) with the most likely recommendations from co-visitation matrix. These recommendations are generated from session AIDs and aid2 from the step 2"
   ]
  },
  {
   "cell_type": "code",
   "execution_count": 1,
   "id": "c0fd77fd",
   "metadata": {
    "execution": {
     "iopub.execute_input": "2023-01-29T09:30:51.658792Z",
     "iopub.status.busy": "2023-01-29T09:30:51.658055Z",
     "iopub.status.idle": "2023-01-29T09:31:33.063305Z",
     "shell.execute_reply": "2023-01-29T09:31:33.061997Z"
    },
    "papermill": {
     "duration": 41.414744,
     "end_time": "2023-01-29T09:31:33.066240",
     "exception": false,
     "start_time": "2023-01-29T09:30:51.651496",
     "status": "completed"
    },
    "tags": []
   },
   "outputs": [
    {
     "name": "stdout",
     "output_type": "stream",
     "text": [
      "Collecting pickle5\r\n",
      "  Downloading pickle5-0.0.12-cp37-cp37m-manylinux_2_5_x86_64.manylinux1_x86_64.whl (256 kB)\r\n",
      "\u001b[2K     \u001b[90m━━━━━━━━━━━━━━━━━━━━━━━━━━━━━━━━━━━━━\u001b[0m \u001b[32m256.4/256.4 kB\u001b[0m \u001b[31m549.9 kB/s\u001b[0m eta \u001b[36m0:00:00\u001b[0m\r\n",
      "\u001b[?25hInstalling collected packages: pickle5\r\n",
      "Successfully installed pickle5-0.0.12\r\n",
      "\u001b[33mWARNING: Running pip as the 'root' user can result in broken permissions and conflicting behaviour with the system package manager. It is recommended to use a virtual environment instead: https://pip.pypa.io/warnings/venv\u001b[0m\u001b[33m\r\n",
      "\u001b[0m"
     ]
    }
   ],
   "source": [
    "import pandas as pd\n",
    "import numpy as np\n",
    "\n",
    "train = pd.read_parquet('../input/otto-full-optimized-memory-footprint/train.parquet')\n",
    "test = pd.read_parquet('../input/otto-full-optimized-memory-footprint/test.parquet')\n",
    "\n",
    "!pip install pickle5\n",
    "import pickle5 as pickle\n",
    "\n",
    "with open('../input/otto-full-optimized-memory-footprint/id2type.pkl', \"rb\") as fh:\n",
    "    id2type = pickle.load(fh)\n",
    "with open('../input/otto-full-optimized-memory-footprint/type2id.pkl', \"rb\") as fh:\n",
    "    type2id = pickle.load(fh)\n",
    "    \n",
    "sample_sub = pd.read_csv('../input/otto-recommender-system/sample_submission.csv')"
   ]
  },
  {
   "cell_type": "code",
   "execution_count": 2,
   "id": "5ccb2a5a",
   "metadata": {
    "execution": {
     "iopub.execute_input": "2023-01-29T09:31:33.080475Z",
     "iopub.status.busy": "2023-01-29T09:31:33.080080Z",
     "iopub.status.idle": "2023-01-29T09:31:33.085162Z",
     "shell.execute_reply": "2023-01-29T09:31:33.083910Z"
    },
    "papermill": {
     "duration": 0.015145,
     "end_time": "2023-01-29T09:31:33.087476",
     "exception": false,
     "start_time": "2023-01-29T09:31:33.072331",
     "status": "completed"
    },
    "tags": []
   },
   "outputs": [],
   "source": [
    "fraction_of_sessions_to_use = 0.5"
   ]
  },
  {
   "cell_type": "markdown",
   "id": "ca2739b4",
   "metadata": {
    "papermill": {
     "duration": 0.005705,
     "end_time": "2023-01-29T09:31:33.099350",
     "exception": false,
     "start_time": "2023-01-29T09:31:33.093645",
     "status": "completed"
    },
    "tags": []
   },
   "source": [
    "Just a bit more of memory footprint optimization. We will be pushing the Kaggle VM to the limit in this notebook!"
   ]
  },
  {
   "cell_type": "code",
   "execution_count": 3,
   "id": "64e91acf",
   "metadata": {
    "execution": {
     "iopub.execute_input": "2023-01-29T09:31:33.113505Z",
     "iopub.status.busy": "2023-01-29T09:31:33.113129Z",
     "iopub.status.idle": "2023-01-29T09:31:38.584133Z",
     "shell.execute_reply": "2023-01-29T09:31:38.582861Z"
    },
    "papermill": {
     "duration": 5.481713,
     "end_time": "2023-01-29T09:31:38.587349",
     "exception": false,
     "start_time": "2023-01-29T09:31:33.105636",
     "status": "completed"
    },
    "tags": []
   },
   "outputs": [],
   "source": [
    "train.session = train.session.astype(np.int32)\n",
    "train.aid = train.aid.astype(np.int32)\n",
    "train.ts /= 1000\n",
    "train.ts = train.ts.astype(np.int32)"
   ]
  },
  {
   "cell_type": "code",
   "execution_count": 4,
   "id": "31734bf3",
   "metadata": {
    "execution": {
     "iopub.execute_input": "2023-01-29T09:31:38.602876Z",
     "iopub.status.busy": "2023-01-29T09:31:38.602454Z",
     "iopub.status.idle": "2023-01-29T09:31:38.621263Z",
     "shell.execute_reply": "2023-01-29T09:31:38.619910Z"
    },
    "papermill": {
     "duration": 0.029301,
     "end_time": "2023-01-29T09:31:38.623774",
     "exception": false,
     "start_time": "2023-01-29T09:31:38.594473",
     "status": "completed"
    },
    "tags": []
   },
   "outputs": [
    {
     "data": {
      "text/html": [
       "<div>\n",
       "<style scoped>\n",
       "    .dataframe tbody tr th:only-of-type {\n",
       "        vertical-align: middle;\n",
       "    }\n",
       "\n",
       "    .dataframe tbody tr th {\n",
       "        vertical-align: top;\n",
       "    }\n",
       "\n",
       "    .dataframe thead th {\n",
       "        text-align: right;\n",
       "    }\n",
       "</style>\n",
       "<table border=\"1\" class=\"dataframe\">\n",
       "  <thead>\n",
       "    <tr style=\"text-align: right;\">\n",
       "      <th></th>\n",
       "      <th>session</th>\n",
       "      <th>aid</th>\n",
       "      <th>ts</th>\n",
       "      <th>type</th>\n",
       "    </tr>\n",
       "  </thead>\n",
       "  <tbody>\n",
       "    <tr>\n",
       "      <th>0</th>\n",
       "      <td>0</td>\n",
       "      <td>1517085</td>\n",
       "      <td>1659304</td>\n",
       "      <td>0</td>\n",
       "    </tr>\n",
       "    <tr>\n",
       "      <th>1</th>\n",
       "      <td>0</td>\n",
       "      <td>1563459</td>\n",
       "      <td>1659304</td>\n",
       "      <td>0</td>\n",
       "    </tr>\n",
       "    <tr>\n",
       "      <th>2</th>\n",
       "      <td>0</td>\n",
       "      <td>1309446</td>\n",
       "      <td>1659367</td>\n",
       "      <td>0</td>\n",
       "    </tr>\n",
       "    <tr>\n",
       "      <th>3</th>\n",
       "      <td>0</td>\n",
       "      <td>16246</td>\n",
       "      <td>1659367</td>\n",
       "      <td>0</td>\n",
       "    </tr>\n",
       "    <tr>\n",
       "      <th>4</th>\n",
       "      <td>0</td>\n",
       "      <td>1781822</td>\n",
       "      <td>1659367</td>\n",
       "      <td>0</td>\n",
       "    </tr>\n",
       "  </tbody>\n",
       "</table>\n",
       "</div>"
      ],
      "text/plain": [
       "   session      aid       ts  type\n",
       "0        0  1517085  1659304     0\n",
       "1        0  1563459  1659304     0\n",
       "2        0  1309446  1659367     0\n",
       "3        0    16246  1659367     0\n",
       "4        0  1781822  1659367     0"
      ]
     },
     "execution_count": 4,
     "metadata": {},
     "output_type": "execute_result"
    }
   ],
   "source": [
    "train.head()"
   ]
  },
  {
   "cell_type": "code",
   "execution_count": 5,
   "id": "81c46376",
   "metadata": {
    "execution": {
     "iopub.execute_input": "2023-01-29T09:31:38.640099Z",
     "iopub.status.busy": "2023-01-29T09:31:38.639687Z",
     "iopub.status.idle": "2023-01-29T09:31:59.014472Z",
     "shell.execute_reply": "2023-01-29T09:31:59.012946Z"
    },
    "papermill": {
     "duration": 20.385249,
     "end_time": "2023-01-29T09:31:59.017206",
     "exception": false,
     "start_time": "2023-01-29T09:31:38.631957",
     "status": "completed"
    },
    "tags": []
   },
   "outputs": [
    {
     "name": "stdout",
     "output_type": "stream",
     "text": [
      "CPU times: user 16 s, sys: 4.33 s, total: 20.4 s\n",
      "Wall time: 20.4 s\n"
     ]
    }
   ],
   "source": [
    "%%time\n",
    "\n",
    "lucky_sessions_train = train.drop_duplicates(['session']).sample(frac=fraction_of_sessions_to_use)['session']\n",
    "subset_of_train = train[train.session.isin(lucky_sessions_train)]\n",
    "\n",
    "lucky_sessions_test = test.drop_duplicates(['session']).sample(frac=fraction_of_sessions_to_use)['session']\n",
    "subset_of_test = test[test.session.isin(lucky_sessions_test)]\n",
    "\n",
    "del train"
   ]
  },
  {
   "cell_type": "code",
   "execution_count": 6,
   "id": "a42b3333",
   "metadata": {
    "execution": {
     "iopub.execute_input": "2023-01-29T09:31:59.032356Z",
     "iopub.status.busy": "2023-01-29T09:31:59.031324Z",
     "iopub.status.idle": "2023-01-29T09:32:03.536571Z",
     "shell.execute_reply": "2023-01-29T09:32:03.535213Z"
    },
    "papermill": {
     "duration": 4.515741,
     "end_time": "2023-01-29T09:32:03.539431",
     "exception": false,
     "start_time": "2023-01-29T09:31:59.023690",
     "status": "completed"
    },
    "tags": []
   },
   "outputs": [],
   "source": [
    "subset_of_train.index = pd.MultiIndex.from_frame(subset_of_train[['session']])\n",
    "subset_of_test.index = pd.MultiIndex.from_frame(subset_of_test[['session']])"
   ]
  },
  {
   "cell_type": "code",
   "execution_count": 7,
   "id": "c8da4648",
   "metadata": {
    "execution": {
     "iopub.execute_input": "2023-01-29T09:32:03.554210Z",
     "iopub.status.busy": "2023-01-29T09:32:03.553797Z",
     "iopub.status.idle": "2023-01-29T09:42:17.347373Z",
     "shell.execute_reply": "2023-01-29T09:42:17.346056Z"
    },
    "papermill": {
     "duration": 613.80384,
     "end_time": "2023-01-29T09:42:17.349739",
     "exception": false,
     "start_time": "2023-01-29T09:32:03.545899",
     "status": "completed"
    },
    "tags": []
   },
   "outputs": [
    {
     "name": "stderr",
     "output_type": "stream",
     "text": [
      "100%|██████████| 215/215 [09:56<00:00,  2.77s/it]\n",
      "100%|██████████| 28/28 [00:16<00:00,  1.75it/s]\n"
     ]
    }
   ],
   "source": [
    "from collections import defaultdict, Counter\n",
    "from tqdm import tqdm\n",
    "\n",
    "next_AIDs = defaultdict(Counter)\n",
    "\n",
    "\n",
    "def update_covisitation_counter(train_or_test, chunk_size=30_000):\n",
    "    sessions = train_or_test.session.unique()\n",
    "    \n",
    "    # Loop through chunks of sessions\n",
    "    for i in tqdm(range(0, sessions.shape[0], chunk_size)):\n",
    "        # Get current chunk of sessions\n",
    "        consecutive_AIDs = train_or_test.loc[sessions[i]:sessions[min(sessions.shape[0]-1, i+chunk_size-1)]].reset_index(drop=True)\n",
    "\n",
    "        # Get the 30 most recent products per session\n",
    "        # consecutive_AIDs = consecutive_AIDs.groupby('session').apply(lambda g: g.tail(30)).reset_index(drop=True)\n",
    "        consecutive_AIDs = consecutive_AIDs.groupby('session', as_index=False).nth(list(range(-30,0))).reset_index(drop=True)\n",
    "\n",
    "        # Merge sessions onto themselves so we can find pairs of products that are actioned on together\n",
    "        consecutive_AIDs = consecutive_AIDs.merge(consecutive_AIDs, on='session')\n",
    "\n",
    "        # Remove entries that are themselves\n",
    "        consecutive_AIDs = consecutive_AIDs[consecutive_AIDs.aid_x != consecutive_AIDs.aid_y]\n",
    "\n",
    "        # Calculate how many days between products\n",
    "        consecutive_AIDs['days_elapsed'] = (consecutive_AIDs.ts_y - consecutive_AIDs.ts_x) / (24 * 60 * 60)\n",
    "\n",
    "        # Only keep products that are within a day of each other\n",
    "        consecutive_AIDs = consecutive_AIDs[(consecutive_AIDs.days_elapsed > 0) & (consecutive_AIDs.days_elapsed <= 1)]\n",
    "\n",
    "        # Iterate through all sessions and count pairs of co-visited products\n",
    "        # for row in consecutive_AIDs.drop_duplicates(['session', 'aid_x', 'aid_y']).itertuples():\n",
    "        #     next_AIDs[row.aid_x][row.aid_y] += 1\n",
    "        consecutive_AIDs.drop_duplicates(['session', 'aid_x', 'aid_y'], inplace=True)\n",
    "        for aid_x, aid_y in zip(consecutive_AIDs['aid_x'], consecutive_AIDs['aid_y']):\n",
    "            next_AIDs[aid_x][aid_y] += 1\n",
    "        \n",
    "\n",
    "update_covisitation_counter(subset_of_train)\n",
    "update_covisitation_counter(subset_of_test)"
   ]
  },
  {
   "cell_type": "code",
   "execution_count": 8,
   "id": "79d563c8",
   "metadata": {
    "execution": {
     "iopub.execute_input": "2023-01-29T09:42:17.393774Z",
     "iopub.status.busy": "2023-01-29T09:42:17.393022Z",
     "iopub.status.idle": "2023-01-29T09:42:17.399308Z",
     "shell.execute_reply": "2023-01-29T09:42:17.398413Z"
    },
    "papermill": {
     "duration": 0.030416,
     "end_time": "2023-01-29T09:42:17.401437",
     "exception": false,
     "start_time": "2023-01-29T09:42:17.371021",
     "status": "completed"
    },
    "tags": []
   },
   "outputs": [
    {
     "data": {
      "text/plain": [
       "1669296"
      ]
     },
     "execution_count": 8,
     "metadata": {},
     "output_type": "execute_result"
    }
   ],
   "source": [
    "len(next_AIDs)"
   ]
  },
  {
   "cell_type": "markdown",
   "id": "05adc3d7",
   "metadata": {
    "execution": {
     "iopub.execute_input": "2022-11-04T00:06:55.371203Z",
     "iopub.status.busy": "2022-11-04T00:06:55.37083Z",
     "iopub.status.idle": "2022-11-04T00:06:55.389977Z",
     "shell.execute_reply": "2022-11-04T00:06:55.388167Z",
     "shell.execute_reply.started": "2022-11-04T00:06:55.371178Z"
    },
    "papermill": {
     "duration": 0.021135,
     "end_time": "2023-01-29T09:42:17.443573",
     "exception": false,
     "start_time": "2023-01-29T09:42:17.422438",
     "status": "completed"
    },
    "tags": []
   },
   "source": [
    "Now let's generate the predictions."
   ]
  },
  {
   "cell_type": "code",
   "execution_count": 9,
   "id": "dbaaee3c",
   "metadata": {
    "execution": {
     "iopub.execute_input": "2023-01-29T09:42:17.487563Z",
     "iopub.status.busy": "2023-01-29T09:42:17.486951Z",
     "iopub.status.idle": "2023-01-29T09:43:24.662631Z",
     "shell.execute_reply": "2023-01-29T09:43:24.661503Z"
    },
    "papermill": {
     "duration": 67.221917,
     "end_time": "2023-01-29T09:43:24.686224",
     "exception": false,
     "start_time": "2023-01-29T09:42:17.464307",
     "status": "completed"
    },
    "tags": []
   },
   "outputs": [
    {
     "name": "stdout",
     "output_type": "stream",
     "text": [
      "CPU times: user 1min 6s, sys: 601 ms, total: 1min 7s\n",
      "Wall time: 1min 7s\n"
     ]
    },
    {
     "data": {
      "text/plain": [
       "session\n",
       "12899779                                              [59625]\n",
       "12899780           [1142000, 582732, 973453, 736515, 1142000]\n",
       "12899781    [141736, 199008, 57315, 194067, 199008, 199008...\n",
       "12899782    [1669402, 1494780, 1494780, 1494780, 1494780, ...\n",
       "12899783    [255297, 1114789, 255297, 300127, 198385, 3001...\n",
       "Name: aid, dtype: object"
      ]
     },
     "execution_count": 9,
     "metadata": {},
     "output_type": "execute_result"
    }
   ],
   "source": [
    "%%time\n",
    "\n",
    "test_session_AIDs = test.groupby('session')['aid'].apply(list)\n",
    "session_types = ['clicks', 'carts', 'orders']\n",
    "\n",
    "test_session_AIDs.head()"
   ]
  },
  {
   "cell_type": "code",
   "execution_count": 10,
   "id": "b17d82ac",
   "metadata": {
    "execution": {
     "iopub.execute_input": "2023-01-29T09:43:24.730687Z",
     "iopub.status.busy": "2023-01-29T09:43:24.730001Z",
     "iopub.status.idle": "2023-01-29T11:10:59.974010Z",
     "shell.execute_reply": "2023-01-29T11:10:59.973069Z"
    },
    "papermill": {
     "duration": 5255.26932,
     "end_time": "2023-01-29T11:10:59.976656",
     "exception": false,
     "start_time": "2023-01-29T09:43:24.707336",
     "status": "completed"
    },
    "tags": []
   },
   "outputs": [
    {
     "name": "stderr",
     "output_type": "stream",
     "text": [
      "100%|██████████| 1671803/1671803 [1:27:35<00:00, 318.12it/s]\n"
     ]
    }
   ],
   "source": [
    "labels = []\n",
    "\n",
    "# Loop through all test session product IDs (AIDs)\n",
    "for AIDs in tqdm(test_session_AIDs):\n",
    "    # Reverse the set of AIDs\n",
    "    AIDs = list(dict.fromkeys(AIDs[::-1]))\n",
    "\n",
    "    # Take the most recent 20 if there are more than 20\n",
    "    if len(AIDs) >= 20:\n",
    "        labels.append(AIDs[:20])\n",
    "\n",
    "    # Otherwise, get the most likely products to see next to fill up to the 20th spot\n",
    "    else:\n",
    "        # counter = Counter()\n",
    "        # for AID in AIDs:\n",
    "        #     subsequent_AID_counter = next_AIDs.get(AID)\n",
    "        #     if subsequent_AID_counter:\n",
    "        #         counter += subsequent_AID_counter\n",
    "        counter = Counter()\n",
    "        for AID in AIDs:\n",
    "            counter.update(next_AIDs.get(AID, {}))\n",
    "        \n",
    "        AIDs += [AID for AID, cnt in counter.most_common(40) if AID not in AIDs]\n",
    "\n",
    "        labels.append(AIDs[:20])"
   ]
  },
  {
   "cell_type": "code",
   "execution_count": 11,
   "id": "e8d122fd",
   "metadata": {
    "execution": {
     "iopub.execute_input": "2023-01-29T11:11:05.300072Z",
     "iopub.status.busy": "2023-01-29T11:11:05.299630Z",
     "iopub.status.idle": "2023-01-29T11:11:11.871273Z",
     "shell.execute_reply": "2023-01-29T11:11:11.870332Z"
    },
    "papermill": {
     "duration": 9.213009,
     "end_time": "2023-01-29T11:11:11.873493",
     "exception": false,
     "start_time": "2023-01-29T11:11:02.660484",
     "status": "completed"
    },
    "tags": []
   },
   "outputs": [
    {
     "data": {
      "image/png": "[encoded data removed]",
      "text/plain": [
       "<Figure size 432x288 with 1 Axes>"
      ]
     },
     "metadata": {
      "needs_background": "light"
     },
     "output_type": "display_data"
    }
   ],
   "source": [
    "from matplotlib import pyplot as plt\n",
    "\n",
    "plt.hist([len(l) for l in labels]);"
   ]
  },
  {
   "cell_type": "code",
   "execution_count": 12,
   "id": "4a211dcc",
   "metadata": {
    "execution": {
     "iopub.execute_input": "2023-01-29T11:11:17.321826Z",
     "iopub.status.busy": "2023-01-29T11:11:17.320590Z",
     "iopub.status.idle": "2023-01-29T11:11:32.372666Z",
     "shell.execute_reply": "2023-01-29T11:11:32.371188Z"
    },
    "papermill": {
     "duration": 17.761762,
     "end_time": "2023-01-29T11:11:32.375506",
     "exception": false,
     "start_time": "2023-01-29T11:11:14.613744",
     "status": "completed"
    },
    "tags": []
   },
   "outputs": [],
   "source": [
    "labels_as_strings = [' '.join([str(l) for l in lls]) for lls in labels]\n",
    "\n",
    "predictions = pd.DataFrame(data={'session_type': test_session_AIDs.index, 'labels': labels_as_strings})"
   ]
  },
  {
   "cell_type": "code",
   "execution_count": 13,
   "id": "7eca6104",
   "metadata": {
    "execution": {
     "iopub.execute_input": "2023-01-29T11:11:37.840213Z",
     "iopub.status.busy": "2023-01-29T11:11:37.838880Z",
     "iopub.status.idle": "2023-01-29T11:11:43.399815Z",
     "shell.execute_reply": "2023-01-29T11:11:43.398567Z"
    },
    "papermill": {
     "duration": 8.326531,
     "end_time": "2023-01-29T11:11:43.403303",
     "exception": false,
     "start_time": "2023-01-29T11:11:35.076772",
     "status": "completed"
    },
    "tags": []
   },
   "outputs": [],
   "source": [
    "prediction_dfs = []\n",
    "\n",
    "for st in session_types:\n",
    "    modified_predictions = predictions.copy()\n",
    "    modified_predictions.session_type = modified_predictions.session_type.astype('str') + f'_{st}'\n",
    "    prediction_dfs.append(modified_predictions)\n",
    "\n",
    "submission = pd.concat(prediction_dfs).reset_index(drop=True)"
   ]
  },
  {
   "cell_type": "code",
   "execution_count": 14,
   "id": "5f840a93",
   "metadata": {
    "execution": {
     "iopub.execute_input": "2023-01-29T11:11:48.817260Z",
     "iopub.status.busy": "2023-01-29T11:11:48.816851Z",
     "iopub.status.idle": "2023-01-29T11:11:48.828333Z",
     "shell.execute_reply": "2023-01-29T11:11:48.827197Z"
    },
    "papermill": {
     "duration": 2.766272,
     "end_time": "2023-01-29T11:11:48.830934",
     "exception": false,
     "start_time": "2023-01-29T11:11:46.064662",
     "status": "completed"
    },
    "tags": []
   },
   "outputs": [
    {
     "data": {
      "text/html": [
       "<div>\n",
       "<style scoped>\n",
       "    .dataframe tbody tr th:only-of-type {\n",
       "        vertical-align: middle;\n",
       "    }\n",
       "\n",
       "    .dataframe tbody tr th {\n",
       "        vertical-align: top;\n",
       "    }\n",
       "\n",
       "    .dataframe thead th {\n",
       "        text-align: right;\n",
       "    }\n",
       "</style>\n",
       "<table border=\"1\" class=\"dataframe\">\n",
       "  <thead>\n",
       "    <tr style=\"text-align: right;\">\n",
       "      <th></th>\n",
       "      <th>session_type</th>\n",
       "      <th>labels</th>\n",
       "    </tr>\n",
       "  </thead>\n",
       "  <tbody>\n",
       "    <tr>\n",
       "      <th>0</th>\n",
       "      <td>12899779_clicks</td>\n",
       "      <td>59625 499621 469285 386310 514164 1770962 1354...</td>\n",
       "    </tr>\n",
       "    <tr>\n",
       "      <th>1</th>\n",
       "      <td>12899780_clicks</td>\n",
       "      <td>1142000 736515 973453 582732 1502122 487136 88...</td>\n",
       "    </tr>\n",
       "    <tr>\n",
       "      <th>2</th>\n",
       "      <td>12899781_clicks</td>\n",
       "      <td>918667 199008 194067 57315 141736 1460571 8113...</td>\n",
       "    </tr>\n",
       "    <tr>\n",
       "      <th>3</th>\n",
       "      <td>12899782_clicks</td>\n",
       "      <td>1007613 595994 1033148 834354 479970 1696036 8...</td>\n",
       "    </tr>\n",
       "    <tr>\n",
       "      <th>4</th>\n",
       "      <td>12899783_clicks</td>\n",
       "      <td>1817895 607638 1754419 1216820 1729553 300127 ...</td>\n",
       "    </tr>\n",
       "  </tbody>\n",
       "</table>\n",
       "</div>"
      ],
      "text/plain": [
       "      session_type                                             labels\n",
       "0  12899779_clicks  59625 499621 469285 386310 514164 1770962 1354...\n",
       "1  12899780_clicks  1142000 736515 973453 582732 1502122 487136 88...\n",
       "2  12899781_clicks  918667 199008 194067 57315 141736 1460571 8113...\n",
       "3  12899782_clicks  1007613 595994 1033148 834354 479970 1696036 8...\n",
       "4  12899783_clicks  1817895 607638 1754419 1216820 1729553 300127 ..."
      ]
     },
     "execution_count": 14,
     "metadata": {},
     "output_type": "execute_result"
    }
   ],
   "source": [
    "submission.head()"
   ]
  },
  {
   "cell_type": "code",
   "execution_count": 15,
   "id": "3b35cf80",
   "metadata": {
    "execution": {
     "iopub.execute_input": "2023-01-29T11:11:54.189887Z",
     "iopub.status.busy": "2023-01-29T11:11:54.189077Z",
     "iopub.status.idle": "2023-01-29T11:12:15.174227Z",
     "shell.execute_reply": "2023-01-29T11:12:15.172916Z"
    },
    "papermill": {
     "duration": 23.722914,
     "end_time": "2023-01-29T11:12:15.177158",
     "exception": false,
     "start_time": "2023-01-29T11:11:51.454244",
     "status": "completed"
    },
    "tags": []
   },
   "outputs": [],
   "source": [
    "submission.to_csv('submission.csv', index=False)"
   ]
  },
  {
   "cell_type": "code",
   "execution_count": null,
   "id": "a51ce32b",
   "metadata": {
    "papermill": {
     "duration": 2.89955,
     "end_time": "2023-01-29T11:12:20.763092",
     "exception": false,
     "start_time": "2023-01-29T11:12:17.863542",
     "status": "completed"
    },
    "tags": []
   },
   "outputs": [],
   "source": []
  }
 ],
 "metadata": {
  "kernelspec": {
   "display_name": "Python 3",
   "language": "python",
   "name": "python3"
  },
  "language_info": {
   "codemirror_mode": {
    "name": "ipython",
    "version": 3
   },
   "file_extension": ".py",
   "mimetype": "text/x-python",
   "name": "python",
   "nbconvert_exporter": "python",
   "pygments_lexer": "ipython3",
   "version": "3.7.12"
  },
  "papermill": {
   "default_parameters": {},
   "duration": 6104.036288,
   "end_time": "2023-01-29T11:12:26.925516",
   "environment_variables": {},
   "exception": null,
   "input_path": "__notebook__.ipynb",
   "output_path": "__notebook__.ipynb",
   "parameters": {},
   "start_time": "2023-01-29T09:30:42.889228",
   "version": "2.3.4"
  }
 },
 "nbformat": 4,
 "nbformat_minor": 5
}
