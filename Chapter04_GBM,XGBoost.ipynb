{
 "cells": [
  {
   "cell_type": "markdown",
   "id": "efbcbb27",
   "metadata": {},
   "source": [
    "## Gradient Boosting Machine\n",
    "\n",
    "- 부스팅 알고리즘: 여러 개의 분류기(약한 학습기, weak learner)가 순차적으로 학습-예측하면서, 잘못 예측한 데이터에 대해서는 다음 분류기에게 가중치를 부여하여 오류를 개선해 나가면서 학습하는 방식\n",
    "- 대표적인 구현: AdaBoost, Gradient Boost\n",
    "    - 차이점: GBM은 가중치 업데이트 시 경사 하강법을 이용함. (오류식을 최소화하는 방향성을 가지고 반복적으로 가중치 값 업데이트)\n",
    "    - GradientBoostingClassifier 클래스 제공"
   ]
  },
  {
   "cell_type": "code",
   "execution_count": 26,
   "id": "24bbb835",
   "metadata": {},
   "outputs": [],
   "source": [
    "from sklearn.ensemble import GradientBoostingClassifier\n",
    "from sklearn.metrics import accuracy_score\n",
    "import time\n",
    "import warnings\n",
    "warnings.filterwarnings('ignore')\n",
    "import pandas as pd\n",
    "import numpy as np\n",
    "import matplotlib.pyplot as plt"
   ]
  },
  {
   "cell_type": "code",
   "execution_count": 3,
   "id": "bd2d336f",
   "metadata": {},
   "outputs": [],
   "source": [
    "def get_new_feature_df(old_feature_name_df): \n",
    "    feature_dup_df = pd.DataFrame(data = old_feature_name_df.groupby('column_name').cumcount(), columns = ['dup_cnt'])\n",
    "    feature_dup_df = feature_dup_df.reset_index()\n",
    "    new_feature_name_df = pd.merge(old_feature_name_df.reset_index(), feature_dup_df, how='outer')\n",
    "    new_feature_name_df['column_name'] = new_feature_name_df[['column_name','dup_cnt']].apply(lambda x: x[0]+'_'+str(x[1]) if x[1]>0 \\\n",
    "                                                                                             else x[0], axis=1)\n",
    "    new_feature_name_df = new_feature_name_df.drop(['index'], axis=1)\n",
    "    return new_feature_name_df"
   ]
  },
  {
   "cell_type": "code",
   "execution_count": 4,
   "id": "ef19b711",
   "metadata": {},
   "outputs": [],
   "source": [
    "def get_human_dataset():\n",
    "    feature_name_df = pd.read_csv(\"./human_activity/features.txt\", sep='\\s+', header=None, names=['column_index', 'column_name'])\n",
    "    new_feature_name_df = get_new_feature_df(feature_name_df)\n",
    "    feature_name = new_feature_name_df.iloc[:,1].values.tolist()\n",
    "    \n",
    "    X_train = pd.read_csv(\"./human_activity/train/X_train.txt\", sep='\\s+', header=None, names = feature_name)\n",
    "    X_test = pd.read_csv(\"./human_activity/test/X_test.txt\", sep='\\s+', header=None, names = feature_name)\n",
    "    y_train = pd.read_csv(\"./human_activity/train/y_train.txt\", sep='\\s+', header=None, names = ['action'])\n",
    "    y_test = pd.read_csv(\"./human_activity/test/y_test.txt\", sep='\\s+', header=None, names = ['action'])\n",
    "    \n",
    "    return X_train, X_test, y_train, y_test\n",
    "\n",
    "X_train, X_test, y_train, y_test = get_human_dataset()"
   ]
  },
  {
   "cell_type": "code",
   "execution_count": 5,
   "id": "e3681789",
   "metadata": {},
   "outputs": [],
   "source": [
    "# GBM 수행 시간 측정, 시작 시간 설정\n",
    "start_time = time.time()"
   ]
  },
  {
   "cell_type": "code",
   "execution_count": 8,
   "id": "0bd6bdfa",
   "metadata": {},
   "outputs": [
    {
     "name": "stdout",
     "output_type": "stream",
     "text": [
      "GBM 정확도: 0.9389\n",
      "GBM 수행 시간: 2224.5초\n"
     ]
    }
   ],
   "source": [
    "gb_clf = GradientBoostingClassifier(random_state=0)\n",
    "gb_clf.fit(X_train, y_train)\n",
    "gb_pred = gb_clf.predict(X_test)\n",
    "gb_accuracy = accuracy_score(y_test, gb_pred)\n",
    "\n",
    "print(\"GBM 정확도: {0:.4f}\".format(gb_accuracy))\n",
    "print(\"GBM 수행 시간: {0:.1f}초\".format(time.time() - start_time))"
   ]
  },
  {
   "cell_type": "markdown",
   "id": "5516d493",
   "metadata": {},
   "source": [
    "## XGBoost\n",
    "- GBM에 기반, GBM의 단점인 느린 수행 시간 및 과적합 규제 부재 등의 문제 해결\n",
    "- 병렬 CPU 환경에서 병렬 학습이 가능"
   ]
  },
  {
   "cell_type": "markdown",
   "id": "b9c77fb8",
   "metadata": {},
   "source": [
    "#### 파이썬 래퍼 XGBoost 모듈"
   ]
  },
  {
   "cell_type": "code",
   "execution_count": 2,
   "id": "deea119e",
   "metadata": {},
   "outputs": [],
   "source": [
    "import xgboost as xgb"
   ]
  },
  {
   "cell_type": "code",
   "execution_count": 3,
   "id": "ebc500f1",
   "metadata": {},
   "outputs": [
    {
     "name": "stdout",
     "output_type": "stream",
     "text": [
      "1.6.1\n"
     ]
    }
   ],
   "source": [
    "print(xgb.__version__)"
   ]
  },
  {
   "cell_type": "code",
   "execution_count": 4,
   "id": "1b2f0f33",
   "metadata": {},
   "outputs": [
    {
     "data": {
      "text/html": [
       "<div>\n",
       "<style scoped>\n",
       "    .dataframe tbody tr th:only-of-type {\n",
       "        vertical-align: middle;\n",
       "    }\n",
       "\n",
       "    .dataframe tbody tr th {\n",
       "        vertical-align: top;\n",
       "    }\n",
       "\n",
       "    .dataframe thead th {\n",
       "        text-align: right;\n",
       "    }\n",
       "</style>\n",
       "<table border=\"1\" class=\"dataframe\">\n",
       "  <thead>\n",
       "    <tr style=\"text-align: right;\">\n",
       "      <th></th>\n",
       "      <th>mean radius</th>\n",
       "      <th>mean texture</th>\n",
       "      <th>mean perimeter</th>\n",
       "      <th>mean area</th>\n",
       "      <th>mean smoothness</th>\n",
       "      <th>mean compactness</th>\n",
       "      <th>mean concavity</th>\n",
       "      <th>mean concave points</th>\n",
       "      <th>mean symmetry</th>\n",
       "      <th>mean fractal dimension</th>\n",
       "      <th>...</th>\n",
       "      <th>worst texture</th>\n",
       "      <th>worst perimeter</th>\n",
       "      <th>worst area</th>\n",
       "      <th>worst smoothness</th>\n",
       "      <th>worst compactness</th>\n",
       "      <th>worst concavity</th>\n",
       "      <th>worst concave points</th>\n",
       "      <th>worst symmetry</th>\n",
       "      <th>worst fractal dimension</th>\n",
       "      <th>target</th>\n",
       "    </tr>\n",
       "  </thead>\n",
       "  <tbody>\n",
       "    <tr>\n",
       "      <th>0</th>\n",
       "      <td>17.99</td>\n",
       "      <td>10.38</td>\n",
       "      <td>122.8</td>\n",
       "      <td>1001.0</td>\n",
       "      <td>0.11840</td>\n",
       "      <td>0.27760</td>\n",
       "      <td>0.3001</td>\n",
       "      <td>0.14710</td>\n",
       "      <td>0.2419</td>\n",
       "      <td>0.07871</td>\n",
       "      <td>...</td>\n",
       "      <td>17.33</td>\n",
       "      <td>184.6</td>\n",
       "      <td>2019.0</td>\n",
       "      <td>0.1622</td>\n",
       "      <td>0.6656</td>\n",
       "      <td>0.7119</td>\n",
       "      <td>0.2654</td>\n",
       "      <td>0.4601</td>\n",
       "      <td>0.11890</td>\n",
       "      <td>0</td>\n",
       "    </tr>\n",
       "    <tr>\n",
       "      <th>1</th>\n",
       "      <td>20.57</td>\n",
       "      <td>17.77</td>\n",
       "      <td>132.9</td>\n",
       "      <td>1326.0</td>\n",
       "      <td>0.08474</td>\n",
       "      <td>0.07864</td>\n",
       "      <td>0.0869</td>\n",
       "      <td>0.07017</td>\n",
       "      <td>0.1812</td>\n",
       "      <td>0.05667</td>\n",
       "      <td>...</td>\n",
       "      <td>23.41</td>\n",
       "      <td>158.8</td>\n",
       "      <td>1956.0</td>\n",
       "      <td>0.1238</td>\n",
       "      <td>0.1866</td>\n",
       "      <td>0.2416</td>\n",
       "      <td>0.1860</td>\n",
       "      <td>0.2750</td>\n",
       "      <td>0.08902</td>\n",
       "      <td>0</td>\n",
       "    </tr>\n",
       "    <tr>\n",
       "      <th>2</th>\n",
       "      <td>19.69</td>\n",
       "      <td>21.25</td>\n",
       "      <td>130.0</td>\n",
       "      <td>1203.0</td>\n",
       "      <td>0.10960</td>\n",
       "      <td>0.15990</td>\n",
       "      <td>0.1974</td>\n",
       "      <td>0.12790</td>\n",
       "      <td>0.2069</td>\n",
       "      <td>0.05999</td>\n",
       "      <td>...</td>\n",
       "      <td>25.53</td>\n",
       "      <td>152.5</td>\n",
       "      <td>1709.0</td>\n",
       "      <td>0.1444</td>\n",
       "      <td>0.4245</td>\n",
       "      <td>0.4504</td>\n",
       "      <td>0.2430</td>\n",
       "      <td>0.3613</td>\n",
       "      <td>0.08758</td>\n",
       "      <td>0</td>\n",
       "    </tr>\n",
       "  </tbody>\n",
       "</table>\n",
       "<p>3 rows × 31 columns</p>\n",
       "</div>"
      ],
      "text/plain": [
       "   mean radius  mean texture  mean perimeter  mean area  mean smoothness  \\\n",
       "0        17.99         10.38           122.8     1001.0          0.11840   \n",
       "1        20.57         17.77           132.9     1326.0          0.08474   \n",
       "2        19.69         21.25           130.0     1203.0          0.10960   \n",
       "\n",
       "   mean compactness  mean concavity  mean concave points  mean symmetry  \\\n",
       "0           0.27760          0.3001              0.14710         0.2419   \n",
       "1           0.07864          0.0869              0.07017         0.1812   \n",
       "2           0.15990          0.1974              0.12790         0.2069   \n",
       "\n",
       "   mean fractal dimension  ...  worst texture  worst perimeter  worst area  \\\n",
       "0                 0.07871  ...          17.33            184.6      2019.0   \n",
       "1                 0.05667  ...          23.41            158.8      1956.0   \n",
       "2                 0.05999  ...          25.53            152.5      1709.0   \n",
       "\n",
       "   worst smoothness  worst compactness  worst concavity  worst concave points  \\\n",
       "0            0.1622             0.6656           0.7119                0.2654   \n",
       "1            0.1238             0.1866           0.2416                0.1860   \n",
       "2            0.1444             0.4245           0.4504                0.2430   \n",
       "\n",
       "   worst symmetry  worst fractal dimension  target  \n",
       "0          0.4601                  0.11890       0  \n",
       "1          0.2750                  0.08902       0  \n",
       "2          0.3613                  0.08758       0  \n",
       "\n",
       "[3 rows x 31 columns]"
      ]
     },
     "execution_count": 4,
     "metadata": {},
     "output_type": "execute_result"
    }
   ],
   "source": [
    "from xgboost import plot_importance\n",
    "from sklearn.datasets import load_breast_cancer\n",
    "from sklearn.model_selection import train_test_split\n",
    "\n",
    "dataset = load_breast_cancer()\n",
    "features = dataset.data\n",
    "labels = dataset.target\n",
    "\n",
    "cancer_df = pd.DataFrame(data = features, columns = dataset.feature_names)\n",
    "cancer_df['target'] = labels\n",
    "cancer_df.head(3)"
   ]
  },
  {
   "cell_type": "code",
   "execution_count": 6,
   "id": "c7febac4",
   "metadata": {},
   "outputs": [
    {
     "data": {
      "text/plain": [
       "array(['malignant', 'benign'], dtype='<U9')"
      ]
     },
     "execution_count": 6,
     "metadata": {},
     "output_type": "execute_result"
    }
   ],
   "source": [
    "dataset.target_names\n",
    "# 악성 0, 양성 1"
   ]
  },
  {
   "cell_type": "code",
   "execution_count": 7,
   "id": "856c6418",
   "metadata": {},
   "outputs": [
    {
     "data": {
      "text/plain": [
       "1    357\n",
       "0    212\n",
       "Name: target, dtype: int64"
      ]
     },
     "execution_count": 7,
     "metadata": {},
     "output_type": "execute_result"
    }
   ],
   "source": [
    "cancer_df.target.value_counts()"
   ]
  },
  {
   "cell_type": "code",
   "execution_count": 9,
   "id": "6d056420",
   "metadata": {},
   "outputs": [],
   "source": [
    "X_features = cancer_df.iloc[:,:-1]\n",
    "y_label = cancer_df.iloc[:,-1]\n",
    "\n",
    "# 전체에서 80%는 학습용, 20%는 테스트용\n",
    "X_train, X_test, y_train, y_test = train_test_split(X_features, y_label, test_size=0.2, random_state=156)\n",
    "\n",
    "# 위에서 만든 학습용을 다시 쪼개서 90%는 학습, 10%는 검증용\n",
    "X_tr, X_val, y_tr, y_val = train_test_split(X_train, y_train, test_size = 0.1, random_state=156)"
   ]
  },
  {
   "cell_type": "code",
   "execution_count": 10,
   "id": "5f24bca3",
   "metadata": {},
   "outputs": [],
   "source": [
    "# DMatrix: XGBoost 만의 전용 데이터 객체\n",
    "\n",
    "dtr = xgb.DMatrix(data = X_tr, label = y_tr)\n",
    "dval = xgb.DMatrix(data = X_val, label = y_val)\n",
    "dtest = xgb.DMatrix(data = X_test, label = y_test)"
   ]
  },
  {
   "cell_type": "code",
   "execution_count": 11,
   "id": "c755ac7d",
   "metadata": {},
   "outputs": [],
   "source": [
    "# XGBoost의 하이퍼 파라미터\n",
    "\n",
    "params = {'max_depth':3, \n",
    "         'eta':0.05, \n",
    "         'objective':'binary:logistic',\n",
    "         'eval_metric':'logloss'}\n",
    "num_rounds = 400\n",
    "\n",
    "## eta: 학습률\n",
    "## objective: 최솟값을 가져야 할 손실함수 정의, binary:logistic:이진 분류\n",
    "## eval_metric: 검증에 사용되는 함수 정의"
   ]
  },
  {
   "cell_type": "code",
   "execution_count": 12,
   "id": "43e185e8",
   "metadata": {},
   "outputs": [
    {
     "name": "stdout",
     "output_type": "stream",
     "text": [
      "[0]\teval-logloss:0.66183\n",
      "[1]\teval-logloss:0.63609\n",
      "[2]\teval-logloss:0.61144\n",
      "[3]\teval-logloss:0.59204\n",
      "[4]\teval-logloss:0.57329\n",
      "[5]\teval-logloss:0.55037\n",
      "[6]\teval-logloss:0.52930\n",
      "[7]\teval-logloss:0.51534\n",
      "[8]\teval-logloss:0.49718\n",
      "[9]\teval-logloss:0.48154\n",
      "[10]\teval-logloss:0.46990\n",
      "[11]\teval-logloss:0.45474\n",
      "[12]\teval-logloss:0.44229\n",
      "[13]\teval-logloss:0.42961\n",
      "[14]\teval-logloss:0.42065\n",
      "[15]\teval-logloss:0.40958\n",
      "[16]\teval-logloss:0.39887\n",
      "[17]\teval-logloss:0.39050\n",
      "[18]\teval-logloss:0.38254\n",
      "[19]\teval-logloss:0.37393\n",
      "[20]\teval-logloss:0.36789\n",
      "[21]\teval-logloss:0.36017\n",
      "[22]\teval-logloss:0.35421\n",
      "[23]\teval-logloss:0.34683\n",
      "[24]\teval-logloss:0.34111\n",
      "[25]\teval-logloss:0.33634\n",
      "[26]\teval-logloss:0.33082\n",
      "[27]\teval-logloss:0.32675\n",
      "[28]\teval-logloss:0.32099\n",
      "[29]\teval-logloss:0.31671\n",
      "[30]\teval-logloss:0.31277\n",
      "[31]\teval-logloss:0.30882\n",
      "[32]\teval-logloss:0.30437\n",
      "[33]\teval-logloss:0.30103\n",
      "[34]\teval-logloss:0.29794\n",
      "[35]\teval-logloss:0.29499\n",
      "[36]\teval-logloss:0.29295\n",
      "[37]\teval-logloss:0.29043\n",
      "[38]\teval-logloss:0.28927\n",
      "[39]\teval-logloss:0.28578\n",
      "[40]\teval-logloss:0.28364\n",
      "[41]\teval-logloss:0.28183\n",
      "[42]\teval-logloss:0.28005\n",
      "[43]\teval-logloss:0.27972\n",
      "[44]\teval-logloss:0.27744\n",
      "[45]\teval-logloss:0.27542\n",
      "[46]\teval-logloss:0.27504\n",
      "[47]\teval-logloss:0.27458\n",
      "[48]\teval-logloss:0.27348\n",
      "[49]\teval-logloss:0.27247\n",
      "[50]\teval-logloss:0.27163\n",
      "[51]\teval-logloss:0.27094\n",
      "[52]\teval-logloss:0.26967\n",
      "[53]\teval-logloss:0.27008\n",
      "[54]\teval-logloss:0.26890\n",
      "[55]\teval-logloss:0.26854\n",
      "[56]\teval-logloss:0.26900\n",
      "[57]\teval-logloss:0.26790\n",
      "[58]\teval-logloss:0.26663\n",
      "[59]\teval-logloss:0.26743\n",
      "[60]\teval-logloss:0.26610\n",
      "[61]\teval-logloss:0.26644\n",
      "[62]\teval-logloss:0.26673\n",
      "[63]\teval-logloss:0.26550\n",
      "[64]\teval-logloss:0.26443\n",
      "[65]\teval-logloss:0.26500\n",
      "[66]\teval-logloss:0.26591\n",
      "[67]\teval-logloss:0.26501\n",
      "[68]\teval-logloss:0.26435\n",
      "[69]\teval-logloss:0.26360\n",
      "[70]\teval-logloss:0.26319\n",
      "[71]\teval-logloss:0.26255\n",
      "[72]\teval-logloss:0.26204\n",
      "[73]\teval-logloss:0.26254\n",
      "[74]\teval-logloss:0.26289\n",
      "[75]\teval-logloss:0.26249\n",
      "[76]\teval-logloss:0.26217\n",
      "[77]\teval-logloss:0.26166\n",
      "[78]\teval-logloss:0.26179\n",
      "[79]\teval-logloss:0.26103\n",
      "[80]\teval-logloss:0.26094\n",
      "[81]\teval-logloss:0.26148\n",
      "[82]\teval-logloss:0.26054\n",
      "[83]\teval-logloss:0.25967\n",
      "[84]\teval-logloss:0.25905\n",
      "[85]\teval-logloss:0.26007\n",
      "[86]\teval-logloss:0.25984\n",
      "[87]\teval-logloss:0.25933\n",
      "[88]\teval-logloss:0.25932\n",
      "[89]\teval-logloss:0.26002\n",
      "[90]\teval-logloss:0.25936\n",
      "[91]\teval-logloss:0.25886\n",
      "[92]\teval-logloss:0.25918\n",
      "[93]\teval-logloss:0.25864\n",
      "[94]\teval-logloss:0.25951\n",
      "[95]\teval-logloss:0.26091\n",
      "[96]\teval-logloss:0.26014\n",
      "[97]\teval-logloss:0.25974\n",
      "[98]\teval-logloss:0.25937\n",
      "[99]\teval-logloss:0.25893\n",
      "[100]\teval-logloss:0.25928\n",
      "[101]\teval-logloss:0.25955\n",
      "[102]\teval-logloss:0.25901\n",
      "[103]\teval-logloss:0.25991\n",
      "[104]\teval-logloss:0.25950\n",
      "[105]\teval-logloss:0.25924\n",
      "[106]\teval-logloss:0.25901\n",
      "[107]\teval-logloss:0.25738\n",
      "[108]\teval-logloss:0.25702\n",
      "[109]\teval-logloss:0.25789\n",
      "[110]\teval-logloss:0.25770\n",
      "[111]\teval-logloss:0.25842\n",
      "[112]\teval-logloss:0.25810\n",
      "[113]\teval-logloss:0.25848\n",
      "[114]\teval-logloss:0.25833\n",
      "[115]\teval-logloss:0.25820\n",
      "[116]\teval-logloss:0.25905\n",
      "[117]\teval-logloss:0.25878\n",
      "[118]\teval-logloss:0.25728\n",
      "[119]\teval-logloss:0.25722\n",
      "[120]\teval-logloss:0.25764\n",
      "[121]\teval-logloss:0.25761\n",
      "[122]\teval-logloss:0.25832\n",
      "[123]\teval-logloss:0.25808\n",
      "[124]\teval-logloss:0.25855\n",
      "[125]\teval-logloss:0.25714\n",
      "[126]\teval-logloss:0.25587\n",
      "[127]\teval-logloss:0.25640\n",
      "[128]\teval-logloss:0.25685\n",
      "[129]\teval-logloss:0.25665\n",
      "[130]\teval-logloss:0.25712\n",
      "[131]\teval-logloss:0.25609\n",
      "[132]\teval-logloss:0.25649\n",
      "[133]\teval-logloss:0.25789\n",
      "[134]\teval-logloss:0.25811\n",
      "[135]\teval-logloss:0.25794\n",
      "[136]\teval-logloss:0.25876\n",
      "[137]\teval-logloss:0.25884\n",
      "[138]\teval-logloss:0.25867\n",
      "[139]\teval-logloss:0.25876\n",
      "[140]\teval-logloss:0.25987\n",
      "[141]\teval-logloss:0.25960\n",
      "[142]\teval-logloss:0.25982\n",
      "[143]\teval-logloss:0.25992\n",
      "[144]\teval-logloss:0.26035\n",
      "[145]\teval-logloss:0.26055\n",
      "[146]\teval-logloss:0.26092\n",
      "[147]\teval-logloss:0.26137\n",
      "[148]\teval-logloss:0.25999\n",
      "[149]\teval-logloss:0.26028\n",
      "[150]\teval-logloss:0.26048\n",
      "[151]\teval-logloss:0.26142\n",
      "[152]\teval-logloss:0.26188\n",
      "[153]\teval-logloss:0.26227\n",
      "[154]\teval-logloss:0.26287\n",
      "[155]\teval-logloss:0.26299\n",
      "[156]\teval-logloss:0.26346\n",
      "[157]\teval-logloss:0.26379\n",
      "[158]\teval-logloss:0.26306\n",
      "[159]\teval-logloss:0.26237\n",
      "[160]\teval-logloss:0.26251\n",
      "[161]\teval-logloss:0.26265\n",
      "[162]\teval-logloss:0.26264\n",
      "[163]\teval-logloss:0.26250\n",
      "[164]\teval-logloss:0.26264\n",
      "[165]\teval-logloss:0.26255\n",
      "[166]\teval-logloss:0.26188\n",
      "[167]\teval-logloss:0.26203\n",
      "[168]\teval-logloss:0.26190\n",
      "[169]\teval-logloss:0.26184\n",
      "[170]\teval-logloss:0.26133\n",
      "[171]\teval-logloss:0.26148\n",
      "[172]\teval-logloss:0.26157\n",
      "[173]\teval-logloss:0.26253\n",
      "[174]\teval-logloss:0.26229\n",
      "[175]\teval-logloss:0.26086\n",
      "[176]\teval-logloss:0.26103\n"
     ]
    }
   ],
   "source": [
    "# 조기 중단: 수행 성능 개선을 위해 더이상의 지표 개선이 없을 경우 round횟수를 채우지 않고 중간에 반복을 빠져 나올 수 있도록 하는 것\n",
    "# 별도의 검증 데이터 세트 이용, early_stopping_rounds 파라미터 입력\n",
    "\n",
    "eval_list = [(dval,'eval')]\n",
    "\n",
    "xgb_model = xgb.train(params=params, dtrain=dtr, num_boost_round = num_rounds, \\\n",
    "                     early_stopping_rounds=50, evals=eval_list)\n",
    "\n",
    "# logloss: 정답 확률에 대한 음의 로그 값의 평균\n",
    "\n",
    "###  >>> [126]\teval-logloss:0.25587: eval-logloss 값이 가장 낮음. 이후에는 logloss값이 커져서 성능이 향상되지 않아 반복 멈춤"
   ]
  },
  {
   "cell_type": "code",
   "execution_count": 15,
   "id": "ded454cf",
   "metadata": {},
   "outputs": [
    {
     "name": "stdout",
     "output_type": "stream",
     "text": [
      "수행 결괏값을 10개만 표시, 예측 확률 값으로 표시됨\n",
      "[0.845 0.008 0.68  0.081 0.975 0.999 0.998 0.998 0.996 0.001]\n",
      "예측값 10개만 표시 [1, 0, 1, 0, 1, 1, 1, 1, 1, 0]\n"
     ]
    }
   ],
   "source": [
    "pred_probs = xgb_model.predict(dtest)\n",
    "print('수행 결괏값을 10개만 표시, 예측 확률 값으로 표시됨')\n",
    "print(np.round(pred_probs[:10], 3))\n",
    "\n",
    "# 예측 확률이 0.5보다 크면 1, 그렇지 않으면 0으로 결정하여 preds 리스트에 저장\n",
    "\n",
    "preds = []\n",
    "\n",
    "for x in pred_probs:\n",
    "    if x > 0.5: \n",
    "        preds.append(1)\n",
    "    else:\n",
    "        preds.append(0)\n",
    "        \n",
    "# 아니면, preds = [ 1 if x>0.5 else 0 for x in pred_probs ]\n",
    "\n",
    "print('예측값 10개만 표시', preds[:10])"
   ]
  },
  {
   "cell_type": "code",
   "execution_count": 22,
   "id": "db837801",
   "metadata": {},
   "outputs": [],
   "source": [
    "from sklearn.metrics import accuracy_score, precision_score, recall_score, confusion_matrix\n",
    "from sklearn.metrics import f1_score\n",
    "from sklearn.metrics import roc_auc_score\n",
    "def get_clf_eval(y_test, pred=None, pred_proba=None):\n",
    "    confusion = confusion_matrix(y_test, pred)\n",
    "    accuracy = accuracy_score(y_test, pred)\n",
    "    precision = precision_score(y_test, pred)\n",
    "    recall = recall_score(y_test, pred)\n",
    "    f1 = f1_score(y_test, pred)\n",
    "    roc_auc = roc_auc_score(y_test, pred_proba)\n",
    "    print('오차행렬')\n",
    "    print(confusion)\n",
    "    print('정확도: {0:.4f}, 정밀도: {1:.4f}, 재현율: {2:.4f},\\\n",
    "    F1: {3:.4f}, roc_auc: {4:.4f}'.format(accuracy, precision, recall, f1, roc_auc))"
   ]
  },
  {
   "cell_type": "code",
   "execution_count": 23,
   "id": "2b967b2a",
   "metadata": {},
   "outputs": [
    {
     "name": "stdout",
     "output_type": "stream",
     "text": [
      "오차행렬\n",
      "[[34  3]\n",
      " [ 2 75]]\n",
      "정확도: 0.9561, 정밀도: 0.9615, 재현율: 0.9740,    F1: 0.9677, roc_auc: 0.9937\n"
     ]
    }
   ],
   "source": [
    "get_clf_eval(y_test, preds, pred_probs)"
   ]
  },
  {
   "cell_type": "code",
   "execution_count": 28,
   "id": "ebd4f26c",
   "metadata": {},
   "outputs": [
    {
     "data": {
      "text/plain": [
       "<AxesSubplot:title={'center':'Feature importance'}, xlabel='F score', ylabel='Features'>"
      ]
     },
     "execution_count": 28,
     "metadata": {},
     "output_type": "execute_result"
    },
    {
     "data": {
      "image/png": "[encoded data removed]",
      "text/plain": [
       "<Figure size 432x288 with 1 Axes>"
      ]
     },
     "metadata": {
      "needs_background": "light"
     },
     "output_type": "display_data"
    }
   ],
   "source": [
    "# plot_importance: f스코어를 기반으로 해당 피처의 중요도를 나타냄\n",
    "plot_importance(xgb_model)"
   ]
  },
  {
   "cell_type": "markdown",
   "id": "a4248455",
   "metadata": {},
   "source": [
    "#### 사이킷런 래퍼 XGBoost"
   ]
  },
  {
   "cell_type": "code",
   "execution_count": 29,
   "id": "c10ae50c",
   "metadata": {},
   "outputs": [],
   "source": [
    "from xgboost import XGBClassifier"
   ]
  },
  {
   "cell_type": "code",
   "execution_count": 32,
   "id": "eaa8e05f",
   "metadata": {},
   "outputs": [],
   "source": [
    "xgb_wrapper = XGBClassifier(n_estimators=400, learning_rate=0.05, max_depth=3, eval_metric='logloss')\n",
    "xgb_wrapper.fit(X_train, y_train, verbose=True)\n",
    "w_preds = xgb_wrapper.predict(X_test)\n",
    "w_preds_proba = xgb_wrapper.predict_proba(X_test)[:,1]"
   ]
  },
  {
   "cell_type": "code",
   "execution_count": 33,
   "id": "ecc485fe",
   "metadata": {},
   "outputs": [
    {
     "name": "stdout",
     "output_type": "stream",
     "text": [
      "오차행렬\n",
      "[[34  3]\n",
      " [ 1 76]]\n",
      "정확도: 0.9649, 정밀도: 0.9620, 재현율: 0.9870,    F1: 0.9744, roc_auc: 0.9954\n"
     ]
    }
   ],
   "source": [
    "get_clf_eval(y_test, w_preds, w_preds_proba)"
   ]
  },
  {
   "cell_type": "code",
   "execution_count": 37,
   "id": "f011d0d1",
   "metadata": {},
   "outputs": [
    {
     "name": "stdout",
     "output_type": "stream",
     "text": [
      "[0]\tvalidation_0-logloss:0.65016\tvalidation_1-logloss:0.66183\n",
      "[1]\tvalidation_0-logloss:0.61131\tvalidation_1-logloss:0.63609\n",
      "[2]\tvalidation_0-logloss:0.57563\tvalidation_1-logloss:0.61144\n",
      "[3]\tvalidation_0-logloss:0.54310\tvalidation_1-logloss:0.59204\n",
      "[4]\tvalidation_0-logloss:0.51323\tvalidation_1-logloss:0.57329\n",
      "[5]\tvalidation_0-logloss:0.48447\tvalidation_1-logloss:0.55037\n",
      "[6]\tvalidation_0-logloss:0.45796\tvalidation_1-logloss:0.52930\n",
      "[7]\tvalidation_0-logloss:0.43436\tvalidation_1-logloss:0.51534\n",
      "[8]\tvalidation_0-logloss:0.41150\tvalidation_1-logloss:0.49718\n",
      "[9]\tvalidation_0-logloss:0.39027\tvalidation_1-logloss:0.48154\n",
      "[10]\tvalidation_0-logloss:0.37128\tvalidation_1-logloss:0.46990\n",
      "[11]\tvalidation_0-logloss:0.35254\tvalidation_1-logloss:0.45474\n",
      "[12]\tvalidation_0-logloss:0.33528\tvalidation_1-logloss:0.44229\n",
      "[13]\tvalidation_0-logloss:0.31892\tvalidation_1-logloss:0.42961\n",
      "[14]\tvalidation_0-logloss:0.30439\tvalidation_1-logloss:0.42065\n",
      "[15]\tvalidation_0-logloss:0.29000\tvalidation_1-logloss:0.40958\n",
      "[16]\tvalidation_0-logloss:0.27651\tvalidation_1-logloss:0.39887\n",
      "[17]\tvalidation_0-logloss:0.26389\tvalidation_1-logloss:0.39050\n",
      "[18]\tvalidation_0-logloss:0.25210\tvalidation_1-logloss:0.38254\n",
      "[19]\tvalidation_0-logloss:0.24123\tvalidation_1-logloss:0.37393\n",
      "[20]\tvalidation_0-logloss:0.23076\tvalidation_1-logloss:0.36789\n",
      "[21]\tvalidation_0-logloss:0.22091\tvalidation_1-logloss:0.36017\n",
      "[22]\tvalidation_0-logloss:0.21155\tvalidation_1-logloss:0.35421\n",
      "[23]\tvalidation_0-logloss:0.20263\tvalidation_1-logloss:0.34683\n",
      "[24]\tvalidation_0-logloss:0.19434\tvalidation_1-logloss:0.34111\n",
      "[25]\tvalidation_0-logloss:0.18637\tvalidation_1-logloss:0.33634\n",
      "[26]\tvalidation_0-logloss:0.17875\tvalidation_1-logloss:0.33082\n",
      "[27]\tvalidation_0-logloss:0.17167\tvalidation_1-logloss:0.32675\n",
      "[28]\tvalidation_0-logloss:0.16481\tvalidation_1-logloss:0.32099\n",
      "[29]\tvalidation_0-logloss:0.15835\tvalidation_1-logloss:0.31671\n",
      "[30]\tvalidation_0-logloss:0.15225\tvalidation_1-logloss:0.31277\n",
      "[31]\tvalidation_0-logloss:0.14650\tvalidation_1-logloss:0.30882\n",
      "[32]\tvalidation_0-logloss:0.14102\tvalidation_1-logloss:0.30437\n",
      "[33]\tvalidation_0-logloss:0.13590\tvalidation_1-logloss:0.30103\n",
      "[34]\tvalidation_0-logloss:0.13109\tvalidation_1-logloss:0.29794\n",
      "[35]\tvalidation_0-logloss:0.12647\tvalidation_1-logloss:0.29499\n",
      "[36]\tvalidation_0-logloss:0.12197\tvalidation_1-logloss:0.29295\n",
      "[37]\tvalidation_0-logloss:0.11784\tvalidation_1-logloss:0.29043\n",
      "[38]\tvalidation_0-logloss:0.11379\tvalidation_1-logloss:0.28927\n",
      "[39]\tvalidation_0-logloss:0.10994\tvalidation_1-logloss:0.28578\n",
      "[40]\tvalidation_0-logloss:0.10638\tvalidation_1-logloss:0.28364\n",
      "[41]\tvalidation_0-logloss:0.10302\tvalidation_1-logloss:0.28183\n",
      "[42]\tvalidation_0-logloss:0.09963\tvalidation_1-logloss:0.28005\n",
      "[43]\tvalidation_0-logloss:0.09649\tvalidation_1-logloss:0.27972\n",
      "[44]\tvalidation_0-logloss:0.09359\tvalidation_1-logloss:0.27744\n",
      "[45]\tvalidation_0-logloss:0.09080\tvalidation_1-logloss:0.27542\n",
      "[46]\tvalidation_0-logloss:0.08807\tvalidation_1-logloss:0.27504\n",
      "[47]\tvalidation_0-logloss:0.08541\tvalidation_1-logloss:0.27458\n",
      "[48]\tvalidation_0-logloss:0.08299\tvalidation_1-logloss:0.27348\n",
      "[49]\tvalidation_0-logloss:0.08035\tvalidation_1-logloss:0.27247\n",
      "[50]\tvalidation_0-logloss:0.07786\tvalidation_1-logloss:0.27163\n",
      "[51]\tvalidation_0-logloss:0.07550\tvalidation_1-logloss:0.27094\n",
      "[52]\tvalidation_0-logloss:0.07344\tvalidation_1-logloss:0.26967\n",
      "[53]\tvalidation_0-logloss:0.07147\tvalidation_1-logloss:0.27008\n",
      "[54]\tvalidation_0-logloss:0.06964\tvalidation_1-logloss:0.26890\n",
      "[55]\tvalidation_0-logloss:0.06766\tvalidation_1-logloss:0.26854\n",
      "[56]\tvalidation_0-logloss:0.06591\tvalidation_1-logloss:0.26900\n",
      "[57]\tvalidation_0-logloss:0.06433\tvalidation_1-logloss:0.26790\n",
      "[58]\tvalidation_0-logloss:0.06259\tvalidation_1-logloss:0.26663\n",
      "[59]\tvalidation_0-logloss:0.06107\tvalidation_1-logloss:0.26743\n",
      "[60]\tvalidation_0-logloss:0.05957\tvalidation_1-logloss:0.26610\n",
      "[61]\tvalidation_0-logloss:0.05817\tvalidation_1-logloss:0.26644\n",
      "[62]\tvalidation_0-logloss:0.05691\tvalidation_1-logloss:0.26673\n",
      "[63]\tvalidation_0-logloss:0.05550\tvalidation_1-logloss:0.26550\n",
      "[64]\tvalidation_0-logloss:0.05422\tvalidation_1-logloss:0.26443\n",
      "[65]\tvalidation_0-logloss:0.05311\tvalidation_1-logloss:0.26500\n",
      "[66]\tvalidation_0-logloss:0.05207\tvalidation_1-logloss:0.26591\n",
      "[67]\tvalidation_0-logloss:0.05093\tvalidation_1-logloss:0.26501\n",
      "[68]\tvalidation_0-logloss:0.04976\tvalidation_1-logloss:0.26435\n",
      "[69]\tvalidation_0-logloss:0.04872\tvalidation_1-logloss:0.26360\n",
      "[70]\tvalidation_0-logloss:0.04776\tvalidation_1-logloss:0.26319\n",
      "[71]\tvalidation_0-logloss:0.04680\tvalidation_1-logloss:0.26255\n",
      "[72]\tvalidation_0-logloss:0.04580\tvalidation_1-logloss:0.26204\n",
      "[73]\tvalidation_0-logloss:0.04484\tvalidation_1-logloss:0.26254\n",
      "[74]\tvalidation_0-logloss:0.04388\tvalidation_1-logloss:0.26289\n",
      "[75]\tvalidation_0-logloss:0.04309\tvalidation_1-logloss:0.26249\n",
      "[76]\tvalidation_0-logloss:0.04224\tvalidation_1-logloss:0.26217\n",
      "[77]\tvalidation_0-logloss:0.04133\tvalidation_1-logloss:0.26166\n",
      "[78]\tvalidation_0-logloss:0.04050\tvalidation_1-logloss:0.26179\n",
      "[79]\tvalidation_0-logloss:0.03967\tvalidation_1-logloss:0.26103\n",
      "[80]\tvalidation_0-logloss:0.03876\tvalidation_1-logloss:0.26094\n",
      "[81]\tvalidation_0-logloss:0.03806\tvalidation_1-logloss:0.26148\n",
      "[82]\tvalidation_0-logloss:0.03740\tvalidation_1-logloss:0.26054\n",
      "[83]\tvalidation_0-logloss:0.03676\tvalidation_1-logloss:0.25967\n",
      "[84]\tvalidation_0-logloss:0.03605\tvalidation_1-logloss:0.25905\n",
      "[85]\tvalidation_0-logloss:0.03545\tvalidation_1-logloss:0.26007\n",
      "[86]\tvalidation_0-logloss:0.03489\tvalidation_1-logloss:0.25984\n",
      "[87]\tvalidation_0-logloss:0.03425\tvalidation_1-logloss:0.25933\n",
      "[88]\tvalidation_0-logloss:0.03361\tvalidation_1-logloss:0.25932\n",
      "[89]\tvalidation_0-logloss:0.03311\tvalidation_1-logloss:0.26002\n",
      "[90]\tvalidation_0-logloss:0.03260\tvalidation_1-logloss:0.25936\n",
      "[91]\tvalidation_0-logloss:0.03202\tvalidation_1-logloss:0.25886\n",
      "[92]\tvalidation_0-logloss:0.03152\tvalidation_1-logloss:0.25918\n",
      "[93]\tvalidation_0-logloss:0.03107\tvalidation_1-logloss:0.25864\n",
      "[94]\tvalidation_0-logloss:0.03049\tvalidation_1-logloss:0.25951\n",
      "[95]\tvalidation_0-logloss:0.03007\tvalidation_1-logloss:0.26091\n",
      "[96]\tvalidation_0-logloss:0.02963\tvalidation_1-logloss:0.26014\n",
      "[97]\tvalidation_0-logloss:0.02913\tvalidation_1-logloss:0.25974\n",
      "[98]\tvalidation_0-logloss:0.02866\tvalidation_1-logloss:0.25937\n",
      "[99]\tvalidation_0-logloss:0.02829\tvalidation_1-logloss:0.25893\n",
      "[100]\tvalidation_0-logloss:0.02789\tvalidation_1-logloss:0.25928\n",
      "[101]\tvalidation_0-logloss:0.02751\tvalidation_1-logloss:0.25955\n",
      "[102]\tvalidation_0-logloss:0.02714\tvalidation_1-logloss:0.25901\n",
      "[103]\tvalidation_0-logloss:0.02668\tvalidation_1-logloss:0.25991\n",
      "[104]\tvalidation_0-logloss:0.02634\tvalidation_1-logloss:0.25950\n",
      "[105]\tvalidation_0-logloss:0.02594\tvalidation_1-logloss:0.25924\n",
      "[106]\tvalidation_0-logloss:0.02556\tvalidation_1-logloss:0.25901\n",
      "[107]\tvalidation_0-logloss:0.02522\tvalidation_1-logloss:0.25738\n",
      "[108]\tvalidation_0-logloss:0.02492\tvalidation_1-logloss:0.25702\n",
      "[109]\tvalidation_0-logloss:0.02453\tvalidation_1-logloss:0.25789\n",
      "[110]\tvalidation_0-logloss:0.02418\tvalidation_1-logloss:0.25770\n",
      "[111]\tvalidation_0-logloss:0.02384\tvalidation_1-logloss:0.25842\n",
      "[112]\tvalidation_0-logloss:0.02356\tvalidation_1-logloss:0.25810\n",
      "[113]\tvalidation_0-logloss:0.02322\tvalidation_1-logloss:0.25848\n",
      "[114]\tvalidation_0-logloss:0.02290\tvalidation_1-logloss:0.25833\n",
      "[115]\tvalidation_0-logloss:0.02260\tvalidation_1-logloss:0.25820\n",
      "[116]\tvalidation_0-logloss:0.02229\tvalidation_1-logloss:0.25905\n",
      "[117]\tvalidation_0-logloss:0.02204\tvalidation_1-logloss:0.25878\n",
      "[118]\tvalidation_0-logloss:0.02176\tvalidation_1-logloss:0.25728\n",
      "[119]\tvalidation_0-logloss:0.02149\tvalidation_1-logloss:0.25722\n",
      "[120]\tvalidation_0-logloss:0.02119\tvalidation_1-logloss:0.25764\n",
      "[121]\tvalidation_0-logloss:0.02095\tvalidation_1-logloss:0.25761\n",
      "[122]\tvalidation_0-logloss:0.02067\tvalidation_1-logloss:0.25832\n",
      "[123]\tvalidation_0-logloss:0.02045\tvalidation_1-logloss:0.25808\n",
      "[124]\tvalidation_0-logloss:0.02023\tvalidation_1-logloss:0.25855\n",
      "[125]\tvalidation_0-logloss:0.01998\tvalidation_1-logloss:0.25714\n",
      "[126]\tvalidation_0-logloss:0.01973\tvalidation_1-logloss:0.25587\n",
      "[127]\tvalidation_0-logloss:0.01946\tvalidation_1-logloss:0.25640\n",
      "[128]\tvalidation_0-logloss:0.01927\tvalidation_1-logloss:0.25685\n",
      "[129]\tvalidation_0-logloss:0.01908\tvalidation_1-logloss:0.25665\n"
     ]
    },
    {
     "name": "stdout",
     "output_type": "stream",
     "text": [
      "[130]\tvalidation_0-logloss:0.01886\tvalidation_1-logloss:0.25712\n",
      "[131]\tvalidation_0-logloss:0.01863\tvalidation_1-logloss:0.25609\n",
      "[132]\tvalidation_0-logloss:0.01839\tvalidation_1-logloss:0.25649\n",
      "[133]\tvalidation_0-logloss:0.01816\tvalidation_1-logloss:0.25789\n",
      "[134]\tvalidation_0-logloss:0.01802\tvalidation_1-logloss:0.25811\n",
      "[135]\tvalidation_0-logloss:0.01785\tvalidation_1-logloss:0.25794\n",
      "[136]\tvalidation_0-logloss:0.01763\tvalidation_1-logloss:0.25876\n",
      "[137]\tvalidation_0-logloss:0.01748\tvalidation_1-logloss:0.25884\n",
      "[138]\tvalidation_0-logloss:0.01732\tvalidation_1-logloss:0.25867\n",
      "[139]\tvalidation_0-logloss:0.01719\tvalidation_1-logloss:0.25876\n",
      "[140]\tvalidation_0-logloss:0.01696\tvalidation_1-logloss:0.25987\n",
      "[141]\tvalidation_0-logloss:0.01681\tvalidation_1-logloss:0.25960\n",
      "[142]\tvalidation_0-logloss:0.01669\tvalidation_1-logloss:0.25982\n",
      "[143]\tvalidation_0-logloss:0.01656\tvalidation_1-logloss:0.25992\n",
      "[144]\tvalidation_0-logloss:0.01638\tvalidation_1-logloss:0.26035\n",
      "[145]\tvalidation_0-logloss:0.01623\tvalidation_1-logloss:0.26055\n",
      "[146]\tvalidation_0-logloss:0.01606\tvalidation_1-logloss:0.26092\n",
      "[147]\tvalidation_0-logloss:0.01589\tvalidation_1-logloss:0.26137\n",
      "[148]\tvalidation_0-logloss:0.01572\tvalidation_1-logloss:0.25999\n",
      "[149]\tvalidation_0-logloss:0.01556\tvalidation_1-logloss:0.26028\n",
      "[150]\tvalidation_0-logloss:0.01546\tvalidation_1-logloss:0.26048\n",
      "[151]\tvalidation_0-logloss:0.01531\tvalidation_1-logloss:0.26142\n",
      "[152]\tvalidation_0-logloss:0.01515\tvalidation_1-logloss:0.26188\n",
      "[153]\tvalidation_0-logloss:0.01501\tvalidation_1-logloss:0.26227\n",
      "[154]\tvalidation_0-logloss:0.01486\tvalidation_1-logloss:0.26287\n",
      "[155]\tvalidation_0-logloss:0.01476\tvalidation_1-logloss:0.26299\n",
      "[156]\tvalidation_0-logloss:0.01462\tvalidation_1-logloss:0.26346\n",
      "[157]\tvalidation_0-logloss:0.01448\tvalidation_1-logloss:0.26379\n",
      "[158]\tvalidation_0-logloss:0.01434\tvalidation_1-logloss:0.26306\n",
      "[159]\tvalidation_0-logloss:0.01424\tvalidation_1-logloss:0.26237\n",
      "[160]\tvalidation_0-logloss:0.01410\tvalidation_1-logloss:0.26251\n",
      "[161]\tvalidation_0-logloss:0.01401\tvalidation_1-logloss:0.26265\n",
      "[162]\tvalidation_0-logloss:0.01392\tvalidation_1-logloss:0.26264\n",
      "[163]\tvalidation_0-logloss:0.01380\tvalidation_1-logloss:0.26250\n",
      "[164]\tvalidation_0-logloss:0.01372\tvalidation_1-logloss:0.26264\n",
      "[165]\tvalidation_0-logloss:0.01359\tvalidation_1-logloss:0.26255\n",
      "[166]\tvalidation_0-logloss:0.01350\tvalidation_1-logloss:0.26188\n",
      "[167]\tvalidation_0-logloss:0.01342\tvalidation_1-logloss:0.26203\n",
      "[168]\tvalidation_0-logloss:0.01331\tvalidation_1-logloss:0.26190\n",
      "[169]\tvalidation_0-logloss:0.01319\tvalidation_1-logloss:0.26184\n",
      "[170]\tvalidation_0-logloss:0.01312\tvalidation_1-logloss:0.26133\n",
      "[171]\tvalidation_0-logloss:0.01304\tvalidation_1-logloss:0.26148\n",
      "[172]\tvalidation_0-logloss:0.01297\tvalidation_1-logloss:0.26157\n",
      "[173]\tvalidation_0-logloss:0.01285\tvalidation_1-logloss:0.26253\n",
      "[174]\tvalidation_0-logloss:0.01278\tvalidation_1-logloss:0.26229\n",
      "[175]\tvalidation_0-logloss:0.01267\tvalidation_1-logloss:0.26086\n",
      "[176]\tvalidation_0-logloss:0.01258\tvalidation_1-logloss:0.26103\n"
     ]
    }
   ],
   "source": [
    "# 조기종료\n",
    "evals = [(X_tr, y_tr),(X_val, y_val)] # 알아서 앞 튜플이 학습용, 뒤 튜플이 검증용으로 인식됨\n",
    "xgb_wrapper.fit(X_tr, y_tr, early_stopping_rounds=50, eval_set=evals, verbose=True)\n",
    "\n",
    "preds = xgb_wrapper.predict(X_test)\n",
    "preds_proba = xgb_wrapper.predict_proba(X_test)[:,1]\n",
    "\n",
    "# [126]\tvalidation_0-logloss:0.01973\tvalidation_1-logloss:0.25587"
   ]
  },
  {
   "cell_type": "code",
   "execution_count": 38,
   "id": "93f4d4d8",
   "metadata": {},
   "outputs": [
    {
     "name": "stdout",
     "output_type": "stream",
     "text": [
      "오차행렬\n",
      "[[34  3]\n",
      " [ 2 75]]\n",
      "정확도: 0.9561, 정밀도: 0.9615, 재현율: 0.9740,    F1: 0.9677, roc_auc: 0.9933\n"
     ]
    }
   ],
   "source": [
    "get_clf_eval(y_test, preds, preds_proba)"
   ]
  },
  {
   "cell_type": "markdown",
   "id": "4c523ca3",
   "metadata": {},
   "source": [
    "조기 중단값(early_stopping_rounds)을 너무 급격하게 줄여버리면, 성능 저하될 우려 큼"
   ]
  },
  {
   "cell_type": "code",
   "execution_count": 39,
   "id": "a6b0a244",
   "metadata": {},
   "outputs": [
    {
     "data": {
      "text/plain": [
       "<AxesSubplot:title={'center':'Feature importance'}, xlabel='F score', ylabel='Features'>"
      ]
     },
     "execution_count": 39,
     "metadata": {},
     "output_type": "execute_result"
    },
    {
     "data": {
      "image/png": "[encoded data removed]",
      "text/plain": [
       "<Figure size 432x288 with 1 Axes>"
      ]
     },
     "metadata": {
      "needs_background": "light"
     },
     "output_type": "display_data"
    }
   ],
   "source": [
    "# plot_importance() 에 사이킷런 래퍼 클래스를 입력해도 똑같이 시각화 결과 도출해줌\n",
    "plot_importance(xgb_wrapper)"
   ]
  }
 ],
 "metadata": {
  "kernelspec": {
   "display_name": "Python 3 (ipykernel)",
   "language": "python",
   "name": "python3"
  },
  "language_info": {
   "codemirror_mode": {
    "name": "ipython",
    "version": 3
   },
   "file_extension": ".py",
   "mimetype": "text/x-python",
   "name": "python",
   "nbconvert_exporter": "python",
   "pygments_lexer": "ipython3",
   "version": "3.10.5"
  }
 },
 "nbformat": 4,
 "nbformat_minor": 5
}
