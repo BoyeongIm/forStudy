{
 "cells": [
  {
   "cell_type": "markdown",
   "id": "1a2532ba",
   "metadata": {
    "_cell_guid": "b1076dfc-b9ad-4769-8c92-a6c4dae69d19",
    "_uuid": "8f2839f25d086af736a60e9eeb907d3b93b6e0e5",
    "papermill": {
     "duration": 0.007159,
     "end_time": "2023-01-31T15:49:10.491053",
     "exception": false,
     "start_time": "2023-01-31T15:49:10.483894",
     "status": "completed"
    },
    "tags": []
   },
   "source": [
    "<h1 style=\"font-family:verdana;\"> <center>🛍 OTTO – Multi-Objective Recommender System - Getting Started 🧑‍💻</center> </h1>\n",
    "\n",
    "***"
   ]
  },
  {
   "cell_type": "markdown",
   "id": "457bbbe7",
   "metadata": {
    "papermill": {
     "duration": 0.007239,
     "end_time": "2023-01-31T15:49:10.505616",
     "exception": false,
     "start_time": "2023-01-31T15:49:10.498377",
     "status": "completed"
    },
    "tags": []
   },
   "source": [
    "### <span style=\"font-family:verdana; word-spacing:1.5px;\"> Contents:\n",
    "[Load in the data ⏳](#first-bullet)\n",
    "    \n",
    "[Data Structure 🗂](#second-bullet)\n",
    "    \n",
    "[Intital EDA 📊](#third-bullet)\n",
    "    \n",
    "[Baseline 📈](#fourth-bullet)\n",
    "    \n",
    "[Where to go next 🚀](#fith-bullet)"
   ]
  },
  {
   "cell_type": "markdown",
   "id": "1a6fc5a6",
   "metadata": {
    "papermill": {
     "duration": 0.006348,
     "end_time": "2023-01-31T15:49:10.518722",
     "exception": false,
     "start_time": "2023-01-31T15:49:10.512374",
     "status": "completed"
    },
    "tags": []
   },
   "source": [
    "### <span style=\"font-family:verdana; word-spacing:1.5px;\">  Task overview\n",
    "    \n",
    "<span style=\"font-family:verdana; word-spacing:1.5px;\">  The aim of this competition is to predict e-commerce <span style=\"color:#159364;\">clicks, cart additions, and orders</span>. You'll build a multi-objective recommender system based on previous events in a user session.\n",
    "    \n",
    "<span style=\"font-family:verdana; word-spacing:1.5px;\"> Current recommender systems consist of various models with different approaches, ranging from simple matrix factorization to a transformer-type deep neural network. However, no single model exists that can simultaneously optimize multiple objectives. In this competition, you’ll build a single entry to predict click-through, add-to-cart, and conversion rates based on previous same-session events."
   ]
  },
  {
   "cell_type": "markdown",
   "id": "56eb1aca",
   "metadata": {
    "papermill": {
     "duration": 0.005895,
     "end_time": "2023-01-31T15:49:10.531409",
     "exception": false,
     "start_time": "2023-01-31T15:49:10.525514",
     "status": "completed"
    },
    "tags": []
   },
   "source": [
    "### <span style=\"font-family:verdana; word-spacing:1.5px;\">   Imports / setup 🚚"
   ]
  },
  {
   "cell_type": "code",
   "execution_count": 1,
   "id": "3b93b207",
   "metadata": {
    "execution": {
     "iopub.execute_input": "2023-01-31T15:49:10.545665Z",
     "iopub.status.busy": "2023-01-31T15:49:10.545116Z",
     "iopub.status.idle": "2023-01-31T15:49:12.340014Z",
     "shell.execute_reply": "2023-01-31T15:49:12.338233Z"
    },
    "papermill": {
     "duration": 1.806325,
     "end_time": "2023-01-31T15:49:12.343698",
     "exception": false,
     "start_time": "2023-01-31T15:49:10.537373",
     "status": "completed"
    },
    "tags": []
   },
   "outputs": [],
   "source": [
    "### Imports ###\n",
    "\n",
    "import pandas as pd\n",
    "from pathlib import Path\n",
    "import os\n",
    "import random\n",
    "import numpy as np\n",
    "import json\n",
    "from datetime import timedelta\n",
    "from collections import Counter\n",
    "from tqdm.notebook import tqdm\n",
    "from heapq import nlargest\n",
    "\n",
    "import matplotlib.pyplot as plt\n",
    "import seaborn as sns\n",
    "sns.set_theme()\n",
    "\n",
    "import warnings\n",
    "warnings.filterwarnings('ignore')\n"
   ]
  },
  {
   "cell_type": "code",
   "execution_count": 2,
   "id": "4a486342",
   "metadata": {
    "execution": {
     "iopub.execute_input": "2023-01-31T15:49:12.359576Z",
     "iopub.status.busy": "2023-01-31T15:49:12.359137Z",
     "iopub.status.idle": "2023-01-31T15:49:12.366042Z",
     "shell.execute_reply": "2023-01-31T15:49:12.364336Z"
    },
    "papermill": {
     "duration": 0.019591,
     "end_time": "2023-01-31T15:49:12.370622",
     "exception": false,
     "start_time": "2023-01-31T15:49:12.351031",
     "status": "completed"
    },
    "tags": []
   },
   "outputs": [],
   "source": [
    "### Paths ###\n",
    "\n",
    "DATA_PATH = Path('../input/otto-recommender-system')\n",
    "TRAIN_PATH = DATA_PATH/'train.jsonl'\n",
    "TEST_PATH = DATA_PATH/'test.jsonl'\n",
    "SAMPLE_SUB_PATH = Path('../input/otto-recommender-system/sample_submission.csv')"
   ]
  },
  {
   "cell_type": "markdown",
   "id": "ac6d53c6",
   "metadata": {
    "papermill": {
     "duration": 0.009014,
     "end_time": "2023-01-31T15:49:12.386506",
     "exception": false,
     "start_time": "2023-01-31T15:49:12.377492",
     "status": "completed"
    },
    "tags": []
   },
   "source": [
    "# <span style=\"font-family:verdana; word-spacing:1.5px;\">   Load in the data ⏳"
   ]
  },
  {
   "cell_type": "code",
   "execution_count": 3,
   "id": "b3d3851b",
   "metadata": {
    "execution": {
     "iopub.execute_input": "2023-01-31T15:49:12.401195Z",
     "iopub.status.busy": "2023-01-31T15:49:12.400736Z",
     "iopub.status.idle": "2023-01-31T15:51:56.120981Z",
     "shell.execute_reply": "2023-01-31T15:51:56.119653Z"
    },
    "papermill": {
     "duration": 163.738311,
     "end_time": "2023-01-31T15:51:56.130955",
     "exception": false,
     "start_time": "2023-01-31T15:49:12.392644",
     "status": "completed"
    },
    "tags": []
   },
   "outputs": [
    {
     "name": "stdout",
     "output_type": "stream",
     "text": [
      "We have 12,899,779 lines in the training data\n"
     ]
    }
   ],
   "source": [
    "# Lets check how many lines the training data has!\n",
    "\n",
    "with open(TRAIN_PATH, 'r') as f:\n",
    "    print(f\"We have {len(f.readlines()):,} lines in the training data\")"
   ]
  },
  {
   "cell_type": "code",
   "execution_count": 4,
   "id": "e4f614e4",
   "metadata": {
    "execution": {
     "iopub.execute_input": "2023-01-31T15:51:56.146435Z",
     "iopub.status.busy": "2023-01-31T15:51:56.145678Z",
     "iopub.status.idle": "2023-01-31T15:52:07.234239Z",
     "shell.execute_reply": "2023-01-31T15:52:07.232562Z"
    },
    "papermill": {
     "duration": 11.100087,
     "end_time": "2023-01-31T15:52:07.237674",
     "exception": false,
     "start_time": "2023-01-31T15:51:56.137587",
     "status": "completed"
    },
    "tags": []
   },
   "outputs": [],
   "source": [
    "# Load in a sample to a pandas df\n",
    "\n",
    "sample_size = 150000\n",
    "\n",
    "chunks = pd.read_json(TRAIN_PATH, lines=True, chunksize = sample_size)\n",
    "\n",
    "for c in chunks:\n",
    "    sample_train_df = c\n",
    "    break"
   ]
  },
  {
   "cell_type": "code",
   "execution_count": 5,
   "id": "cf33c75d",
   "metadata": {
    "execution": {
     "iopub.execute_input": "2023-01-31T15:52:07.252751Z",
     "iopub.status.busy": "2023-01-31T15:52:07.252283Z",
     "iopub.status.idle": "2023-01-31T15:52:07.364450Z",
     "shell.execute_reply": "2023-01-31T15:52:07.362897Z"
    },
    "papermill": {
     "duration": 0.122987,
     "end_time": "2023-01-31T15:52:07.367410",
     "exception": false,
     "start_time": "2023-01-31T15:52:07.244423",
     "status": "completed"
    },
    "tags": []
   },
   "outputs": [
    {
     "data": {
      "text/html": [
       "<div>\n",
       "<style scoped>\n",
       "    .dataframe tbody tr th:only-of-type {\n",
       "        vertical-align: middle;\n",
       "    }\n",
       "\n",
       "    .dataframe tbody tr th {\n",
       "        vertical-align: top;\n",
       "    }\n",
       "\n",
       "    .dataframe thead th {\n",
       "        text-align: right;\n",
       "    }\n",
       "</style>\n",
       "<table border=\"1\" class=\"dataframe\">\n",
       "  <thead>\n",
       "    <tr style=\"text-align: right;\">\n",
       "      <th></th>\n",
       "      <th>events</th>\n",
       "    </tr>\n",
       "    <tr>\n",
       "      <th>session</th>\n",
       "      <th></th>\n",
       "    </tr>\n",
       "  </thead>\n",
       "  <tbody>\n",
       "    <tr>\n",
       "      <th>0</th>\n",
       "      <td>[{'aid': 1517085, 'ts': 1659304800025, 'type':...</td>\n",
       "    </tr>\n",
       "    <tr>\n",
       "      <th>1</th>\n",
       "      <td>[{'aid': 424964, 'ts': 1659304800025, 'type': ...</td>\n",
       "    </tr>\n",
       "    <tr>\n",
       "      <th>2</th>\n",
       "      <td>[{'aid': 763743, 'ts': 1659304800038, 'type': ...</td>\n",
       "    </tr>\n",
       "    <tr>\n",
       "      <th>3</th>\n",
       "      <td>[{'aid': 1425967, 'ts': 1659304800095, 'type':...</td>\n",
       "    </tr>\n",
       "    <tr>\n",
       "      <th>4</th>\n",
       "      <td>[{'aid': 613619, 'ts': 1659304800119, 'type': ...</td>\n",
       "    </tr>\n",
       "  </tbody>\n",
       "</table>\n",
       "</div>"
      ],
      "text/plain": [
       "                                                    events\n",
       "session                                                   \n",
       "0        [{'aid': 1517085, 'ts': 1659304800025, 'type':...\n",
       "1        [{'aid': 424964, 'ts': 1659304800025, 'type': ...\n",
       "2        [{'aid': 763743, 'ts': 1659304800038, 'type': ...\n",
       "3        [{'aid': 1425967, 'ts': 1659304800095, 'type':...\n",
       "4        [{'aid': 613619, 'ts': 1659304800119, 'type': ..."
      ]
     },
     "execution_count": 5,
     "metadata": {},
     "output_type": "execute_result"
    }
   ],
   "source": [
    "sample_train_df.set_index('session', drop=True, inplace=True)\n",
    "sample_train_df.head()"
   ]
  },
  {
   "cell_type": "code",
   "execution_count": 6,
   "id": "aa596bd7",
   "metadata": {
    "execution": {
     "iopub.execute_input": "2023-01-31T15:52:07.383842Z",
     "iopub.status.busy": "2023-01-31T15:52:07.382849Z",
     "iopub.status.idle": "2023-01-31T15:52:07.429280Z",
     "shell.execute_reply": "2023-01-31T15:52:07.427725Z"
    },
    "papermill": {
     "duration": 0.057734,
     "end_time": "2023-01-31T15:52:07.432295",
     "exception": false,
     "start_time": "2023-01-31T15:52:07.374561",
     "status": "completed"
    },
    "tags": []
   },
   "outputs": [
    {
     "data": {
      "text/plain": [
       "[{'aid': 1517085, 'ts': 1659304800025, 'type': 'clicks'},\n",
       " {'aid': 1563459, 'ts': 1659304904511, 'type': 'clicks'},\n",
       " {'aid': 1309446, 'ts': 1659367439426, 'type': 'clicks'},\n",
       " {'aid': 16246, 'ts': 1659367719997, 'type': 'clicks'},\n",
       " {'aid': 1781822, 'ts': 1659367871344, 'type': 'clicks'},\n",
       " {'aid': 1152674, 'ts': 1659367885796, 'type': 'clicks'},\n",
       " {'aid': 1649869, 'ts': 1659369893840, 'type': 'carts'},\n",
       " {'aid': 461689, 'ts': 1659369898050, 'type': 'carts'},\n",
       " {'aid': 305831, 'ts': 1659370027105, 'type': 'orders'},\n",
       " {'aid': 461689, 'ts': 1659370027105, 'type': 'orders'},\n",
       " {'aid': 362233, 'ts': 1659370064916, 'type': 'clicks'},\n",
       " {'aid': 1649869, 'ts': 1659370067686, 'type': 'clicks'},\n",
       " {'aid': 1649869, 'ts': 1659371003682, 'type': 'clicks'},\n",
       " {'aid': 984597, 'ts': 1659371033243, 'type': 'clicks'},\n",
       " {'aid': 1649869, 'ts': 1659371042297, 'type': 'clicks'},\n",
       " {'aid': 803544, 'ts': 1659371044075, 'type': 'clicks'},\n",
       " {'aid': 1110941, 'ts': 1659371104329, 'type': 'clicks'},\n",
       " {'aid': 1190046, 'ts': 1659371123063, 'type': 'clicks'},\n",
       " {'aid': 1760685, 'ts': 1659375531385, 'type': 'clicks'},\n",
       " {'aid': 631008, 'ts': 1659375544399, 'type': 'clicks'},\n",
       " {'aid': 461689, 'ts': 1659380437483, 'type': 'clicks'},\n",
       " {'aid': 1190046, 'ts': 1659385092507, 'type': 'clicks'},\n",
       " {'aid': 1650637, 'ts': 1659457550038, 'type': 'clicks'},\n",
       " {'aid': 313546, 'ts': 1659457555000, 'type': 'clicks'},\n",
       " {'aid': 1650637, 'ts': 1659457556864, 'type': 'clicks'},\n",
       " {'aid': 979517, 'ts': 1659457682485, 'type': 'clicks'},\n",
       " {'aid': 351157, 'ts': 1659457782214, 'type': 'clicks'},\n",
       " {'aid': 1062149, 'ts': 1659457834849, 'type': 'clicks'},\n",
       " {'aid': 1157384, 'ts': 1659457854818, 'type': 'clicks'},\n",
       " {'aid': 1841388, 'ts': 1659457862516, 'type': 'clicks'},\n",
       " {'aid': 1469630, 'ts': 1659531937070, 'type': 'clicks'},\n",
       " {'aid': 305831, 'ts': 1659626326984, 'type': 'clicks'},\n",
       " {'aid': 1110548, 'ts': 1659626335719, 'type': 'clicks'},\n",
       " {'aid': 1110548, 'ts': 1659627788270, 'type': 'clicks'},\n",
       " {'aid': 305831, 'ts': 1659627805792, 'type': 'clicks'},\n",
       " {'aid': 1650114, 'ts': 1659632910630, 'type': 'clicks'},\n",
       " {'aid': 1604396, 'ts': 1659639917844, 'type': 'clicks'},\n",
       " {'aid': 1009750, 'ts': 1659640759156, 'type': 'clicks'},\n",
       " {'aid': 1800933, 'ts': 1659640798950, 'type': 'clicks'},\n",
       " {'aid': 495779, 'ts': 1659640818182, 'type': 'clicks'},\n",
       " {'aid': 394655, 'ts': 1659640824817, 'type': 'clicks'},\n",
       " {'aid': 495779, 'ts': 1659644609064, 'type': 'clicks'},\n",
       " {'aid': 789245, 'ts': 1659710146448, 'type': 'clicks'},\n",
       " {'aid': 789245, 'ts': 1659710157188, 'type': 'carts'},\n",
       " {'aid': 366890, 'ts': 1659710161039, 'type': 'clicks'},\n",
       " {'aid': 361317, 'ts': 1659710180137, 'type': 'clicks'},\n",
       " {'aid': 1700164, 'ts': 1659710277855, 'type': 'clicks'},\n",
       " {'aid': 1755597, 'ts': 1659710348943, 'type': 'clicks'},\n",
       " {'aid': 789245, 'ts': 1659710506088, 'type': 'clicks'},\n",
       " {'aid': 784978, 'ts': 1659710544821, 'type': 'clicks'},\n",
       " {'aid': 1171505, 'ts': 1659710615253, 'type': 'clicks'},\n",
       " {'aid': 784978, 'ts': 1659710636756, 'type': 'clicks'},\n",
       " {'aid': 1700164, 'ts': 1659710643493, 'type': 'clicks'},\n",
       " {'aid': 784978, 'ts': 1659710660397, 'type': 'clicks'},\n",
       " {'aid': 1521766, 'ts': 1659729979807, 'type': 'clicks'},\n",
       " {'aid': 1725503, 'ts': 1659774028031, 'type': 'clicks'},\n",
       " {'aid': 528847, 'ts': 1659774232119, 'type': 'clicks'},\n",
       " {'aid': 1816325, 'ts': 1659774337835, 'type': 'clicks'},\n",
       " {'aid': 984597, 'ts': 1659774357892, 'type': 'clicks'},\n",
       " {'aid': 1072782, 'ts': 1659775873688, 'type': 'clicks'},\n",
       " {'aid': 173702, 'ts': 1659775934223, 'type': 'clicks'},\n",
       " {'aid': 1072782, 'ts': 1659775940204, 'type': 'clicks'},\n",
       " {'aid': 1407538, 'ts': 1659894272577, 'type': 'clicks'},\n",
       " {'aid': 1629651, 'ts': 1659964140685, 'type': 'clicks'},\n",
       " {'aid': 1768568, 'ts': 1660015113752, 'type': 'clicks'},\n",
       " {'aid': 1318324, 'ts': 1660015128071, 'type': 'clicks'},\n",
       " {'aid': 1840418, 'ts': 1660024261875, 'type': 'clicks'},\n",
       " {'aid': 1813509, 'ts': 1660024355795, 'type': 'clicks'},\n",
       " {'aid': 1813509, 'ts': 1660024376430, 'type': 'clicks'},\n",
       " {'aid': 667924, 'ts': 1660024473559, 'type': 'clicks'},\n",
       " {'aid': 1226444, 'ts': 1660024558718, 'type': 'clicks'},\n",
       " {'aid': 709550, 'ts': 1660051792855, 'type': 'clicks'},\n",
       " {'aid': 709417, 'ts': 1660051861065, 'type': 'clicks'},\n",
       " {'aid': 1225559, 'ts': 1660051954808, 'type': 'clicks'},\n",
       " {'aid': 1048044, 'ts': 1660051960145, 'type': 'clicks'},\n",
       " {'aid': 1052813, 'ts': 1660051970995, 'type': 'clicks'},\n",
       " {'aid': 1225559, 'ts': 1660157753080, 'type': 'clicks'},\n",
       " {'aid': 240346, 'ts': 1660157783198, 'type': 'clicks'},\n",
       " {'aid': 1582117, 'ts': 1660244973157, 'type': 'clicks'},\n",
       " {'aid': 1707783, 'ts': 1660397387901, 'type': 'clicks'},\n",
       " {'aid': 1624436, 'ts': 1660427603773, 'type': 'clicks'},\n",
       " {'aid': 1157411, 'ts': 1660427638022, 'type': 'clicks'},\n",
       " {'aid': 358305, 'ts': 1660427747431, 'type': 'clicks'},\n",
       " {'aid': 1202970, 'ts': 1660487679331, 'type': 'clicks'},\n",
       " {'aid': 832192, 'ts': 1660503007938, 'type': 'clicks'},\n",
       " {'aid': 1498443, 'ts': 1660503022035, 'type': 'clicks'},\n",
       " {'aid': 723931, 'ts': 1660544235597, 'type': 'clicks'},\n",
       " {'aid': 1436439, 'ts': 1660544269960, 'type': 'clicks'},\n",
       " {'aid': 1693461, 'ts': 1660544287455, 'type': 'clicks'},\n",
       " {'aid': 1206554, 'ts': 1660544299221, 'type': 'clicks'},\n",
       " {'aid': 1110741, 'ts': 1660546139893, 'type': 'clicks'},\n",
       " {'aid': 346352, 'ts': 1660546161409, 'type': 'clicks'},\n",
       " {'aid': 1802050, 'ts': 1660546183298, 'type': 'clicks'},\n",
       " {'aid': 154930, 'ts': 1660546209381, 'type': 'clicks'},\n",
       " {'aid': 964169, 'ts': 1660546305529, 'type': 'clicks'},\n",
       " {'aid': 964169, 'ts': 1660560966498, 'type': 'clicks'},\n",
       " {'aid': 823637, 'ts': 1660561030556, 'type': 'clicks'},\n",
       " {'aid': 964169, 'ts': 1660561080714, 'type': 'clicks'},\n",
       " {'aid': 1411683, 'ts': 1660561089802, 'type': 'clicks'},\n",
       " {'aid': 964169, 'ts': 1660561117871, 'type': 'clicks'},\n",
       " {'aid': 1167722, 'ts': 1660561126514, 'type': 'clicks'},\n",
       " {'aid': 964169, 'ts': 1660561134273, 'type': 'clicks'},\n",
       " {'aid': 1619737, 'ts': 1660561148997, 'type': 'clicks'},\n",
       " {'aid': 964169, 'ts': 1660561164172, 'type': 'clicks'},\n",
       " {'aid': 1840615, 'ts': 1660561171658, 'type': 'clicks'},\n",
       " {'aid': 512756, 'ts': 1660609863481, 'type': 'clicks'},\n",
       " {'aid': 946219, 'ts': 1660610026720, 'type': 'clicks'},\n",
       " {'aid': 1090479, 'ts': 1660610071104, 'type': 'clicks'},\n",
       " {'aid': 1164387, 'ts': 1660610121763, 'type': 'clicks'},\n",
       " {'aid': 1308544, 'ts': 1660610152804, 'type': 'clicks'},\n",
       " {'aid': 719622, 'ts': 1660628330847, 'type': 'clicks'},\n",
       " {'aid': 1750538, 'ts': 1660628368623, 'type': 'clicks'},\n",
       " {'aid': 1443747, 'ts': 1660628405346, 'type': 'clicks'},\n",
       " {'aid': 1750538, 'ts': 1660628462681, 'type': 'clicks'},\n",
       " {'aid': 337364, 'ts': 1660664901829, 'type': 'clicks'},\n",
       " {'aid': 1653945, 'ts': 1660664961835, 'type': 'clicks'},\n",
       " {'aid': 1222638, 'ts': 1660665033172, 'type': 'clicks'},\n",
       " {'aid': 1622987, 'ts': 1660665303865, 'type': 'clicks'},\n",
       " {'aid': 608383, 'ts': 1660665647387, 'type': 'clicks'},\n",
       " {'aid': 1460239, 'ts': 1660739325748, 'type': 'clicks'},\n",
       " {'aid': 1436439, 'ts': 1660739348796, 'type': 'clicks'},\n",
       " {'aid': 321397, 'ts': 1660743499983, 'type': 'clicks'},\n",
       " {'aid': 828625, 'ts': 1660743606777, 'type': 'clicks'},\n",
       " {'aid': 1624436, 'ts': 1660744083719, 'type': 'clicks'},\n",
       " {'aid': 1157411, 'ts': 1660744125198, 'type': 'clicks'},\n",
       " {'aid': 1537907, 'ts': 1660744194187, 'type': 'clicks'},\n",
       " {'aid': 1070142, 'ts': 1660744220834, 'type': 'clicks'},\n",
       " {'aid': 959208, 'ts': 1660762627101, 'type': 'clicks'},\n",
       " {'aid': 275288, 'ts': 1660801729835, 'type': 'clicks'},\n",
       " {'aid': 1318324, 'ts': 1660801799774, 'type': 'clicks'},\n",
       " {'aid': 1072782, 'ts': 1660801833403, 'type': 'clicks'},\n",
       " {'aid': 1072782, 'ts': 1660801845183, 'type': 'clicks'},\n",
       " {'aid': 173702, 'ts': 1660801854389, 'type': 'clicks'},\n",
       " {'aid': 1428075, 'ts': 1660835311717, 'type': 'clicks'},\n",
       " {'aid': 892659, 'ts': 1660895211775, 'type': 'clicks'},\n",
       " {'aid': 1127565, 'ts': 1660895222884, 'type': 'clicks'},\n",
       " {'aid': 1072782, 'ts': 1660895259741, 'type': 'clicks'},\n",
       " {'aid': 97836, 'ts': 1660895309293, 'type': 'clicks'},\n",
       " {'aid': 384343, 'ts': 1660983402330, 'type': 'clicks'},\n",
       " {'aid': 218130, 'ts': 1661017911485, 'type': 'clicks'},\n",
       " {'aid': 294248, 'ts': 1661017946037, 'type': 'clicks'},\n",
       " {'aid': 166547, 'ts': 1661017956449, 'type': 'clicks'},\n",
       " {'aid': 504365, 'ts': 1661017998816, 'type': 'clicks'},\n",
       " {'aid': 102416, 'ts': 1661019639174, 'type': 'clicks'},\n",
       " {'aid': 30373, 'ts': 1661103687164, 'type': 'clicks'},\n",
       " {'aid': 724999, 'ts': 1661103701418, 'type': 'clicks'},\n",
       " {'aid': 1110548, 'ts': 1661103727767, 'type': 'clicks'},\n",
       " {'aid': 10268, 'ts': 1661157951797, 'type': 'clicks'},\n",
       " {'aid': 219925, 'ts': 1661157962188, 'type': 'clicks'},\n",
       " {'aid': 1140855, 'ts': 1661157993281, 'type': 'clicks'},\n",
       " {'aid': 915702, 'ts': 1661158034888, 'type': 'clicks'},\n",
       " {'aid': 480578, 'ts': 1661158090652, 'type': 'clicks'},\n",
       " {'aid': 1145803, 'ts': 1661158184827, 'type': 'clicks'},\n",
       " {'aid': 480578, 'ts': 1661158189101, 'type': 'clicks'},\n",
       " {'aid': 516456, 'ts': 1661158253105, 'type': 'clicks'},\n",
       " {'aid': 536842, 'ts': 1661158285058, 'type': 'clicks'},\n",
       " {'aid': 1446430, 'ts': 1661206127572, 'type': 'clicks'},\n",
       " {'aid': 581169, 'ts': 1661240249947, 'type': 'clicks'},\n",
       " {'aid': 976007, 'ts': 1661240257635, 'type': 'clicks'},\n",
       " {'aid': 667322, 'ts': 1661240281936, 'type': 'clicks'},\n",
       " {'aid': 1801525, 'ts': 1661240292181, 'type': 'clicks'},\n",
       " {'aid': 1767945, 'ts': 1661240318161, 'type': 'clicks'},\n",
       " {'aid': 1342014, 'ts': 1661240345599, 'type': 'clicks'},\n",
       " {'aid': 1813509, 'ts': 1661289160324, 'type': 'clicks'},\n",
       " {'aid': 1785321, 'ts': 1661289218136, 'type': 'clicks'},\n",
       " {'aid': 1813509, 'ts': 1661289227315, 'type': 'clicks'},\n",
       " {'aid': 1840615, 'ts': 1661289238313, 'type': 'clicks'},\n",
       " {'aid': 1689148, 'ts': 1661289299389, 'type': 'clicks'},\n",
       " {'aid': 1840615, 'ts': 1661289311093, 'type': 'clicks'},\n",
       " {'aid': 72748, 'ts': 1661326681916, 'type': 'clicks'},\n",
       " {'aid': 1049280, 'ts': 1661326752479, 'type': 'clicks'},\n",
       " {'aid': 1436439, 'ts': 1661326789241, 'type': 'clicks'},\n",
       " {'aid': 6851, 'ts': 1661326818142, 'type': 'clicks'},\n",
       " {'aid': 1433235, 'ts': 1661326995238, 'type': 'clicks'},\n",
       " {'aid': 7563, 'ts': 1661336115924, 'type': 'clicks'},\n",
       " {'aid': 1766089, 'ts': 1661336145432, 'type': 'clicks'},\n",
       " {'aid': 7563, 'ts': 1661336153894, 'type': 'clicks'},\n",
       " {'aid': 570955, 'ts': 1661336161993, 'type': 'clicks'},\n",
       " {'aid': 1766089, 'ts': 1661336182348, 'type': 'clicks'},\n",
       " {'aid': 570955, 'ts': 1661336206826, 'type': 'clicks'},\n",
       " {'aid': 974651, 'ts': 1661336218155, 'type': 'carts'},\n",
       " {'aid': 974651, 'ts': 1661336222447, 'type': 'clicks'},\n",
       " {'aid': 974651, 'ts': 1661336225076, 'type': 'carts'},\n",
       " {'aid': 974651, 'ts': 1661336252514, 'type': 'carts'},\n",
       " {'aid': 280978, 'ts': 1661336260024, 'type': 'carts'},\n",
       " {'aid': 1521766, 'ts': 1661336265942, 'type': 'carts'},\n",
       " {'aid': 661144, 'ts': 1661377452536, 'type': 'clicks'},\n",
       " {'aid': 1760145, 'ts': 1661377467092, 'type': 'carts'},\n",
       " {'aid': 1639229, 'ts': 1661377507795, 'type': 'clicks'},\n",
       " {'aid': 1624436, 'ts': 1661377547329, 'type': 'clicks'},\n",
       " {'aid': 738987, 'ts': 1661377571633, 'type': 'clicks'},\n",
       " {'aid': 1436439, 'ts': 1661422036465, 'type': 'clicks'},\n",
       " {'aid': 102416, 'ts': 1661441640992, 'type': 'clicks'},\n",
       " {'aid': 190818, 'ts': 1661547489220, 'type': 'clicks'},\n",
       " {'aid': 1157411, 'ts': 1661547534713, 'type': 'clicks'},\n",
       " {'aid': 138431, 'ts': 1661547574171, 'type': 'clicks'},\n",
       " {'aid': 543308, 'ts': 1661547622300, 'type': 'clicks'},\n",
       " {'aid': 1760145, 'ts': 1661547680429, 'type': 'clicks'},\n",
       " {'aid': 543308, 'ts': 1661547702839, 'type': 'clicks'},\n",
       " {'aid': 275288, 'ts': 1661550299698, 'type': 'carts'},\n",
       " {'aid': 275288, 'ts': 1661550315976, 'type': 'clicks'},\n",
       " {'aid': 1760145, 'ts': 1661550323287, 'type': 'clicks'},\n",
       " {'aid': 974651, 'ts': 1661550339661, 'type': 'clicks'},\n",
       " {'aid': 974651, 'ts': 1661550341792, 'type': 'carts'},\n",
       " {'aid': 1760145, 'ts': 1661550346913, 'type': 'clicks'},\n",
       " {'aid': 570955, 'ts': 1661550376132, 'type': 'clicks'},\n",
       " {'aid': 661144, 'ts': 1661550391128, 'type': 'clicks'},\n",
       " {'aid': 362233, 'ts': 1661551907312, 'type': 'clicks'},\n",
       " {'aid': 362233, 'ts': 1661551914311, 'type': 'clicks'},\n",
       " {'aid': 1760145, 'ts': 1661551920731, 'type': 'clicks'},\n",
       " {'aid': 275288, 'ts': 1661551929652, 'type': 'clicks'},\n",
       " {'aid': 974651, 'ts': 1661551935480, 'type': 'clicks'},\n",
       " {'aid': 543308, 'ts': 1661551961976, 'type': 'clicks'},\n",
       " {'aid': 624343, 'ts': 1661552027429, 'type': 'clicks'},\n",
       " {'aid': 543308, 'ts': 1661552069889, 'type': 'clicks'},\n",
       " {'aid': 723612, 'ts': 1661552073985, 'type': 'clicks'},\n",
       " {'aid': 543308, 'ts': 1661552079343, 'type': 'clicks'},\n",
       " {'aid': 543308, 'ts': 1661552090532, 'type': 'carts'},\n",
       " {'aid': 543308, 'ts': 1661552094001, 'type': 'carts'},\n",
       " {'aid': 442293, 'ts': 1661552175174, 'type': 'clicks'},\n",
       " {'aid': 442293, 'ts': 1661552201727, 'type': 'carts'},\n",
       " {'aid': 442293, 'ts': 1661552224613, 'type': 'clicks'},\n",
       " {'aid': 442293, 'ts': 1661552237234, 'type': 'clicks'},\n",
       " {'aid': 171073, 'ts': 1661552249672, 'type': 'clicks'},\n",
       " {'aid': 851778, 'ts': 1661552276235, 'type': 'clicks'},\n",
       " {'aid': 976134, 'ts': 1661552295471, 'type': 'clicks'},\n",
       " {'aid': 856506, 'ts': 1661552321092, 'type': 'clicks'},\n",
       " {'aid': 1549618, 'ts': 1661552356671, 'type': 'carts'},\n",
       " {'aid': 419161, 'ts': 1661552370948, 'type': 'clicks'},\n",
       " {'aid': 543308, 'ts': 1661552394168, 'type': 'clicks'},\n",
       " {'aid': 1549618, 'ts': 1661552536107, 'type': 'clicks'},\n",
       " {'aid': 760277, 'ts': 1661552615456, 'type': 'clicks'},\n",
       " {'aid': 1549618, 'ts': 1661552638423, 'type': 'clicks'},\n",
       " {'aid': 702179, 'ts': 1661552645018, 'type': 'clicks'},\n",
       " {'aid': 1549618, 'ts': 1661552648034, 'type': 'clicks'},\n",
       " {'aid': 1587393, 'ts': 1661552650883, 'type': 'clicks'},\n",
       " {'aid': 76358, 'ts': 1661552661754, 'type': 'clicks'},\n",
       " {'aid': 1549618, 'ts': 1661552673593, 'type': 'clicks'},\n",
       " {'aid': 1199474, 'ts': 1661552684092, 'type': 'clicks'},\n",
       " {'aid': 1199474, 'ts': 1661552744284, 'type': 'carts'},\n",
       " {'aid': 1386923, 'ts': 1661552755361, 'type': 'clicks'},\n",
       " {'aid': 1055124, 'ts': 1661552768406, 'type': 'clicks'},\n",
       " {'aid': 859697, 'ts': 1661552785728, 'type': 'clicks'},\n",
       " {'aid': 1055124, 'ts': 1661552791386, 'type': 'clicks'},\n",
       " {'aid': 1386923, 'ts': 1661552794455, 'type': 'clicks'},\n",
       " {'aid': 1199474, 'ts': 1661552940651, 'type': 'orders'},\n",
       " {'aid': 543308, 'ts': 1661552940651, 'type': 'orders'},\n",
       " {'aid': 961113, 'ts': 1661562901716, 'type': 'clicks'},\n",
       " {'aid': 883849, 'ts': 1661563120145, 'type': 'clicks'},\n",
       " {'aid': 701766, 'ts': 1661586370237, 'type': 'clicks'},\n",
       " {'aid': 924751, 'ts': 1661586382407, 'type': 'clicks'},\n",
       " {'aid': 168206, 'ts': 1661586401880, 'type': 'clicks'},\n",
       " {'aid': 924751, 'ts': 1661591004580, 'type': 'clicks'},\n",
       " {'aid': 219033, 'ts': 1661593840839, 'type': 'clicks'},\n",
       " {'aid': 171982, 'ts': 1661593852385, 'type': 'clicks'},\n",
       " {'aid': 1319939, 'ts': 1661607646300, 'type': 'clicks'},\n",
       " {'aid': 1349536, 'ts': 1661607734014, 'type': 'clicks'},\n",
       " {'aid': 334392, 'ts': 1661607781173, 'type': 'clicks'},\n",
       " {'aid': 1349536, 'ts': 1661607810151, 'type': 'clicks'},\n",
       " {'aid': 1349536, 'ts': 1661634295803, 'type': 'clicks'},\n",
       " {'aid': 165096, 'ts': 1661634321351, 'type': 'clicks'},\n",
       " {'aid': 315914, 'ts': 1661634351420, 'type': 'clicks'},\n",
       " {'aid': 315914, 'ts': 1661634431593, 'type': 'carts'},\n",
       " {'aid': 1680276, 'ts': 1661634664923, 'type': 'clicks'},\n",
       " {'aid': 1818905, 'ts': 1661634688122, 'type': 'clicks'},\n",
       " {'aid': 334392, 'ts': 1661634725193, 'type': 'clicks'},\n",
       " {'aid': 1048797, 'ts': 1661634830704, 'type': 'clicks'},\n",
       " {'aid': 1048797, 'ts': 1661673496255, 'type': 'clicks'},\n",
       " {'aid': 543308, 'ts': 1661682228301, 'type': 'clicks'},\n",
       " {'aid': 341626, 'ts': 1661684136178, 'type': 'clicks'},\n",
       " {'aid': 219925, 'ts': 1661684258732, 'type': 'clicks'},\n",
       " {'aid': 843110, 'ts': 1661684298768, 'type': 'clicks'},\n",
       " {'aid': 938007, 'ts': 1661684355390, 'type': 'clicks'},\n",
       " {'aid': 1228848, 'ts': 1661684528943, 'type': 'clicks'},\n",
       " {'aid': 1740927, 'ts': 1661684942173, 'type': 'clicks'},\n",
       " {'aid': 161938, 'ts': 1661684983707, 'type': 'clicks'}]"
      ]
     },
     "execution_count": 6,
     "metadata": {},
     "output_type": "execute_result"
    }
   ],
   "source": [
    "# how many session[0] events there are and how they look like\n",
    "sample_train_df.iloc[0,0]"
   ]
  },
  {
   "cell_type": "markdown",
   "id": "2d26af66",
   "metadata": {
    "execution": {
     "iopub.execute_input": "2022-11-01T23:14:19.492818Z",
     "iopub.status.busy": "2022-11-01T23:14:19.492394Z",
     "iopub.status.idle": "2022-11-01T23:14:19.49865Z",
     "shell.execute_reply": "2022-11-01T23:14:19.496998Z",
     "shell.execute_reply.started": "2022-11-01T23:14:19.492782Z"
    },
    "papermill": {
     "duration": 0.007114,
     "end_time": "2023-01-31T15:52:07.447491",
     "exception": false,
     "start_time": "2023-01-31T15:52:07.440377",
     "status": "completed"
    },
    "tags": []
   },
   "source": [
    "# <span style=\"font-family:verdana; word-spacing:1.5px;\">   Data structure 🗂\n",
    "    \n",
    "<span style=\"font-family:verdana; word-spacing:1.5px;\">  `session` - the unique session id. Each session contains a list of time ordered events.\n",
    "\n",
    "<span style=\"font-family:verdana; word-spacing:1.5px;\">  `events` - the time ordered sequence of events in the session. Each event contains 3 pieces of information:\n",
    "\n",
    "- <span style=\"font-family:verdana; word-spacing:1.5px;\">  `aid` - the article id (product code) of the associated event\n",
    "    \n",
    "- <span style=\"font-family:verdana; word-spacing:1.5px;\">  `ts` - the Unix timestamp of the event (Unix time is the number of **milliseconds** that have elapsed since 00:00:00 UTC on 1 January 1970) (Thanks to Junji Takeshima https://www.kaggle.com/junjitakeshima for the correction)\n",
    "\n",
    "- <span style=\"font-family:verdana; word-spacing:1.5px;\">  `type` - the event type, i.e., whether a product was clicked (`clicks`), added to the user's cart (`carts`), or ordered during the session (`orders`)\n"
   ]
  },
  {
   "cell_type": "code",
   "execution_count": 7,
   "id": "f810d748",
   "metadata": {
    "execution": {
     "iopub.execute_input": "2023-01-31T15:52:07.464467Z",
     "iopub.status.busy": "2023-01-31T15:52:07.464031Z",
     "iopub.status.idle": "2023-01-31T15:52:07.473502Z",
     "shell.execute_reply": "2023-01-31T15:52:07.472592Z"
    },
    "papermill": {
     "duration": 0.02221,
     "end_time": "2023-01-31T15:52:07.477414",
     "exception": false,
     "start_time": "2023-01-31T15:52:07.455204",
     "status": "completed"
    },
    "tags": []
   },
   "outputs": [
    {
     "name": "stdout",
     "output_type": "stream",
     "text": [
      "[{'aid': 1517085, 'ts': 1659304800025, 'type': 'clicks'}, {'aid': 1563459, 'ts': 1659304904511, 'type': 'clicks'}, {'aid': 1309446, 'ts': 1659367439426, 'type': 'clicks'}, {'aid': 16246, 'ts': 1659367719997, 'type': 'clicks'}, {'aid': 1781822, 'ts': 1659367871344, 'type': 'clicks'}, {'aid': 1152674, 'ts': 1659367885796, 'type': 'clicks'}, {'aid': 1649869, 'ts': 1659369893840, 'type': 'carts'}, {'aid': 461689, 'ts': 1659369898050, 'type': 'carts'}, {'aid': 305831, 'ts': 1659370027105, 'type': 'orders'}, {'aid': 461689, 'ts': 1659370027105, 'type': 'orders'}, {'aid': 362233, 'ts': 1659370064916, 'type': 'clicks'}, {'aid': 1649869, 'ts': 1659370067686, 'type': 'clicks'}, {'aid': 1649869, 'ts': 1659371003682, 'type': 'clicks'}, {'aid': 984597, 'ts': 1659371033243, 'type': 'clicks'}, {'aid': 1649869, 'ts': 1659371042297, 'type': 'clicks'}, {'aid': 803544, 'ts': 1659371044075, 'type': 'clicks'}, {'aid': 1110941, 'ts': 1659371104329, 'type': 'clicks'}, {'aid': 1190046, 'ts': 1659371123063, 'type': 'clicks'}, {'aid': 1760685, 'ts': 1659375531385, 'type': 'clicks'}, {'aid': 631008, 'ts': 1659375544399, 'type': 'clicks'}, {'aid': 461689, 'ts': 1659380437483, 'type': 'clicks'}, {'aid': 1190046, 'ts': 1659385092507, 'type': 'clicks'}, {'aid': 1650637, 'ts': 1659457550038, 'type': 'clicks'}, {'aid': 313546, 'ts': 1659457555000, 'type': 'clicks'}, {'aid': 1650637, 'ts': 1659457556864, 'type': 'clicks'}, {'aid': 979517, 'ts': 1659457682485, 'type': 'clicks'}, {'aid': 351157, 'ts': 1659457782214, 'type': 'clicks'}, {'aid': 1062149, 'ts': 1659457834849, 'type': 'clicks'}, {'aid': 1157384, 'ts': 1659457854818, 'type': 'clicks'}, {'aid': 1841388, 'ts': 1659457862516, 'type': 'clicks'}, {'aid': 1469630, 'ts': 1659531937070, 'type': 'clicks'}, {'aid': 305831, 'ts': 1659626326984, 'type': 'clicks'}, {'aid': 1110548, 'ts': 1659626335719, 'type': 'clicks'}, {'aid': 1110548, 'ts': 1659627788270, 'type': 'clicks'}, {'aid': 305831, 'ts': 1659627805792, 'type': 'clicks'}, {'aid': 1650114, 'ts': 1659632910630, 'type': 'clicks'}, {'aid': 1604396, 'ts': 1659639917844, 'type': 'clicks'}, {'aid': 1009750, 'ts': 1659640759156, 'type': 'clicks'}, {'aid': 1800933, 'ts': 1659640798950, 'type': 'clicks'}, {'aid': 495779, 'ts': 1659640818182, 'type': 'clicks'}, {'aid': 394655, 'ts': 1659640824817, 'type': 'clicks'}, {'aid': 495779, 'ts': 1659644609064, 'type': 'clicks'}, {'aid': 789245, 'ts': 1659710146448, 'type': 'clicks'}, {'aid': 789245, 'ts': 1659710157188, 'type': 'carts'}, {'aid': 366890, 'ts': 1659710161039, 'type': 'clicks'}, {'aid': 361317, 'ts': 1659710180137, 'type': 'clicks'}, {'aid': 1700164, 'ts': 1659710277855, 'type': 'clicks'}, {'aid': 1755597, 'ts': 1659710348943, 'type': 'clicks'}, {'aid': 789245, 'ts': 1659710506088, 'type': 'clicks'}, {'aid': 784978, 'ts': 1659710544821, 'type': 'clicks'}, {'aid': 1171505, 'ts': 1659710615253, 'type': 'clicks'}, {'aid': 784978, 'ts': 1659710636756, 'type': 'clicks'}, {'aid': 1700164, 'ts': 1659710643493, 'type': 'clicks'}, {'aid': 784978, 'ts': 1659710660397, 'type': 'clicks'}, {'aid': 1521766, 'ts': 1659729979807, 'type': 'clicks'}, {'aid': 1725503, 'ts': 1659774028031, 'type': 'clicks'}, {'aid': 528847, 'ts': 1659774232119, 'type': 'clicks'}, {'aid': 1816325, 'ts': 1659774337835, 'type': 'clicks'}, {'aid': 984597, 'ts': 1659774357892, 'type': 'clicks'}, {'aid': 1072782, 'ts': 1659775873688, 'type': 'clicks'}, {'aid': 173702, 'ts': 1659775934223, 'type': 'clicks'}, {'aid': 1072782, 'ts': 1659775940204, 'type': 'clicks'}, {'aid': 1407538, 'ts': 1659894272577, 'type': 'clicks'}, {'aid': 1629651, 'ts': 1659964140685, 'type': 'clicks'}, {'aid': 1768568, 'ts': 1660015113752, 'type': 'clicks'}, {'aid': 1318324, 'ts': 1660015128071, 'type': 'clicks'}, {'aid': 1840418, 'ts': 1660024261875, 'type': 'clicks'}, {'aid': 1813509, 'ts': 1660024355795, 'type': 'clicks'}, {'aid': 1813509, 'ts': 1660024376430, 'type': 'clicks'}, {'aid': 667924, 'ts': 1660024473559, 'type': 'clicks'}, {'aid': 1226444, 'ts': 1660024558718, 'type': 'clicks'}, {'aid': 709550, 'ts': 1660051792855, 'type': 'clicks'}, {'aid': 709417, 'ts': 1660051861065, 'type': 'clicks'}, {'aid': 1225559, 'ts': 1660051954808, 'type': 'clicks'}, {'aid': 1048044, 'ts': 1660051960145, 'type': 'clicks'}, {'aid': 1052813, 'ts': 1660051970995, 'type': 'clicks'}, {'aid': 1225559, 'ts': 1660157753080, 'type': 'clicks'}, {'aid': 240346, 'ts': 1660157783198, 'type': 'clicks'}, {'aid': 1582117, 'ts': 1660244973157, 'type': 'clicks'}, {'aid': 1707783, 'ts': 1660397387901, 'type': 'clicks'}, {'aid': 1624436, 'ts': 1660427603773, 'type': 'clicks'}, {'aid': 1157411, 'ts': 1660427638022, 'type': 'clicks'}, {'aid': 358305, 'ts': 1660427747431, 'type': 'clicks'}, {'aid': 1202970, 'ts': 1660487679331, 'type': 'clicks'}, {'aid': 832192, 'ts': 1660503007938, 'type': 'clicks'}, {'aid': 1498443, 'ts': 1660503022035, 'type': 'clicks'}, {'aid': 723931, 'ts': 1660544235597, 'type': 'clicks'}, {'aid': 1436439, 'ts': 1660544269960, 'type': 'clicks'}, {'aid': 1693461, 'ts': 1660544287455, 'type': 'clicks'}, {'aid': 1206554, 'ts': 1660544299221, 'type': 'clicks'}, {'aid': 1110741, 'ts': 1660546139893, 'type': 'clicks'}, {'aid': 346352, 'ts': 1660546161409, 'type': 'clicks'}, {'aid': 1802050, 'ts': 1660546183298, 'type': 'clicks'}, {'aid': 154930, 'ts': 1660546209381, 'type': 'clicks'}, {'aid': 964169, 'ts': 1660546305529, 'type': 'clicks'}, {'aid': 964169, 'ts': 1660560966498, 'type': 'clicks'}, {'aid': 823637, 'ts': 1660561030556, 'type': 'clicks'}, {'aid': 964169, 'ts': 1660561080714, 'type': 'clicks'}, {'aid': 1411683, 'ts': 1660561089802, 'type': 'clicks'}, {'aid': 964169, 'ts': 1660561117871, 'type': 'clicks'}, {'aid': 1167722, 'ts': 1660561126514, 'type': 'clicks'}, {'aid': 964169, 'ts': 1660561134273, 'type': 'clicks'}, {'aid': 1619737, 'ts': 1660561148997, 'type': 'clicks'}, {'aid': 964169, 'ts': 1660561164172, 'type': 'clicks'}, {'aid': 1840615, 'ts': 1660561171658, 'type': 'clicks'}, {'aid': 512756, 'ts': 1660609863481, 'type': 'clicks'}, {'aid': 946219, 'ts': 1660610026720, 'type': 'clicks'}, {'aid': 1090479, 'ts': 1660610071104, 'type': 'clicks'}, {'aid': 1164387, 'ts': 1660610121763, 'type': 'clicks'}, {'aid': 1308544, 'ts': 1660610152804, 'type': 'clicks'}, {'aid': 719622, 'ts': 1660628330847, 'type': 'clicks'}, {'aid': 1750538, 'ts': 1660628368623, 'type': 'clicks'}, {'aid': 1443747, 'ts': 1660628405346, 'type': 'clicks'}, {'aid': 1750538, 'ts': 1660628462681, 'type': 'clicks'}, {'aid': 337364, 'ts': 1660664901829, 'type': 'clicks'}, {'aid': 1653945, 'ts': 1660664961835, 'type': 'clicks'}, {'aid': 1222638, 'ts': 1660665033172, 'type': 'clicks'}, {'aid': 1622987, 'ts': 1660665303865, 'type': 'clicks'}, {'aid': 608383, 'ts': 1660665647387, 'type': 'clicks'}, {'aid': 1460239, 'ts': 1660739325748, 'type': 'clicks'}, {'aid': 1436439, 'ts': 1660739348796, 'type': 'clicks'}, {'aid': 321397, 'ts': 1660743499983, 'type': 'clicks'}, {'aid': 828625, 'ts': 1660743606777, 'type': 'clicks'}, {'aid': 1624436, 'ts': 1660744083719, 'type': 'clicks'}, {'aid': 1157411, 'ts': 1660744125198, 'type': 'clicks'}, {'aid': 1537907, 'ts': 1660744194187, 'type': 'clicks'}, {'aid': 1070142, 'ts': 1660744220834, 'type': 'clicks'}, {'aid': 959208, 'ts': 1660762627101, 'type': 'clicks'}, {'aid': 275288, 'ts': 1660801729835, 'type': 'clicks'}, {'aid': 1318324, 'ts': 1660801799774, 'type': 'clicks'}, {'aid': 1072782, 'ts': 1660801833403, 'type': 'clicks'}, {'aid': 1072782, 'ts': 1660801845183, 'type': 'clicks'}, {'aid': 173702, 'ts': 1660801854389, 'type': 'clicks'}, {'aid': 1428075, 'ts': 1660835311717, 'type': 'clicks'}, {'aid': 892659, 'ts': 1660895211775, 'type': 'clicks'}, {'aid': 1127565, 'ts': 1660895222884, 'type': 'clicks'}, {'aid': 1072782, 'ts': 1660895259741, 'type': 'clicks'}, {'aid': 97836, 'ts': 1660895309293, 'type': 'clicks'}, {'aid': 384343, 'ts': 1660983402330, 'type': 'clicks'}, {'aid': 218130, 'ts': 1661017911485, 'type': 'clicks'}, {'aid': 294248, 'ts': 1661017946037, 'type': 'clicks'}, {'aid': 166547, 'ts': 1661017956449, 'type': 'clicks'}, {'aid': 504365, 'ts': 1661017998816, 'type': 'clicks'}, {'aid': 102416, 'ts': 1661019639174, 'type': 'clicks'}, {'aid': 30373, 'ts': 1661103687164, 'type': 'clicks'}, {'aid': 724999, 'ts': 1661103701418, 'type': 'clicks'}, {'aid': 1110548, 'ts': 1661103727767, 'type': 'clicks'}, {'aid': 10268, 'ts': 1661157951797, 'type': 'clicks'}, {'aid': 219925, 'ts': 1661157962188, 'type': 'clicks'}, {'aid': 1140855, 'ts': 1661157993281, 'type': 'clicks'}, {'aid': 915702, 'ts': 1661158034888, 'type': 'clicks'}, {'aid': 480578, 'ts': 1661158090652, 'type': 'clicks'}, {'aid': 1145803, 'ts': 1661158184827, 'type': 'clicks'}, {'aid': 480578, 'ts': 1661158189101, 'type': 'clicks'}, {'aid': 516456, 'ts': 1661158253105, 'type': 'clicks'}, {'aid': 536842, 'ts': 1661158285058, 'type': 'clicks'}, {'aid': 1446430, 'ts': 1661206127572, 'type': 'clicks'}, {'aid': 581169, 'ts': 1661240249947, 'type': 'clicks'}, {'aid': 976007, 'ts': 1661240257635, 'type': 'clicks'}, {'aid': 667322, 'ts': 1661240281936, 'type': 'clicks'}, {'aid': 1801525, 'ts': 1661240292181, 'type': 'clicks'}, {'aid': 1767945, 'ts': 1661240318161, 'type': 'clicks'}, {'aid': 1342014, 'ts': 1661240345599, 'type': 'clicks'}, {'aid': 1813509, 'ts': 1661289160324, 'type': 'clicks'}, {'aid': 1785321, 'ts': 1661289218136, 'type': 'clicks'}, {'aid': 1813509, 'ts': 1661289227315, 'type': 'clicks'}, {'aid': 1840615, 'ts': 1661289238313, 'type': 'clicks'}, {'aid': 1689148, 'ts': 1661289299389, 'type': 'clicks'}, {'aid': 1840615, 'ts': 1661289311093, 'type': 'clicks'}, {'aid': 72748, 'ts': 1661326681916, 'type': 'clicks'}, {'aid': 1049280, 'ts': 1661326752479, 'type': 'clicks'}, {'aid': 1436439, 'ts': 1661326789241, 'type': 'clicks'}, {'aid': 6851, 'ts': 1661326818142, 'type': 'clicks'}, {'aid': 1433235, 'ts': 1661326995238, 'type': 'clicks'}, {'aid': 7563, 'ts': 1661336115924, 'type': 'clicks'}, {'aid': 1766089, 'ts': 1661336145432, 'type': 'clicks'}, {'aid': 7563, 'ts': 1661336153894, 'type': 'clicks'}, {'aid': 570955, 'ts': 1661336161993, 'type': 'clicks'}, {'aid': 1766089, 'ts': 1661336182348, 'type': 'clicks'}, {'aid': 570955, 'ts': 1661336206826, 'type': 'clicks'}, {'aid': 974651, 'ts': 1661336218155, 'type': 'carts'}, {'aid': 974651, 'ts': 1661336222447, 'type': 'clicks'}, {'aid': 974651, 'ts': 1661336225076, 'type': 'carts'}, {'aid': 974651, 'ts': 1661336252514, 'type': 'carts'}, {'aid': 280978, 'ts': 1661336260024, 'type': 'carts'}, {'aid': 1521766, 'ts': 1661336265942, 'type': 'carts'}, {'aid': 661144, 'ts': 1661377452536, 'type': 'clicks'}, {'aid': 1760145, 'ts': 1661377467092, 'type': 'carts'}, {'aid': 1639229, 'ts': 1661377507795, 'type': 'clicks'}, {'aid': 1624436, 'ts': 1661377547329, 'type': 'clicks'}, {'aid': 738987, 'ts': 1661377571633, 'type': 'clicks'}, {'aid': 1436439, 'ts': 1661422036465, 'type': 'clicks'}, {'aid': 102416, 'ts': 1661441640992, 'type': 'clicks'}, {'aid': 190818, 'ts': 1661547489220, 'type': 'clicks'}, {'aid': 1157411, 'ts': 1661547534713, 'type': 'clicks'}, {'aid': 138431, 'ts': 1661547574171, 'type': 'clicks'}, {'aid': 543308, 'ts': 1661547622300, 'type': 'clicks'}, {'aid': 1760145, 'ts': 1661547680429, 'type': 'clicks'}, {'aid': 543308, 'ts': 1661547702839, 'type': 'clicks'}, {'aid': 275288, 'ts': 1661550299698, 'type': 'carts'}, {'aid': 275288, 'ts': 1661550315976, 'type': 'clicks'}, {'aid': 1760145, 'ts': 1661550323287, 'type': 'clicks'}, {'aid': 974651, 'ts': 1661550339661, 'type': 'clicks'}, {'aid': 974651, 'ts': 1661550341792, 'type': 'carts'}, {'aid': 1760145, 'ts': 1661550346913, 'type': 'clicks'}, {'aid': 570955, 'ts': 1661550376132, 'type': 'clicks'}, {'aid': 661144, 'ts': 1661550391128, 'type': 'clicks'}, {'aid': 362233, 'ts': 1661551907312, 'type': 'clicks'}, {'aid': 362233, 'ts': 1661551914311, 'type': 'clicks'}, {'aid': 1760145, 'ts': 1661551920731, 'type': 'clicks'}, {'aid': 275288, 'ts': 1661551929652, 'type': 'clicks'}, {'aid': 974651, 'ts': 1661551935480, 'type': 'clicks'}, {'aid': 543308, 'ts': 1661551961976, 'type': 'clicks'}, {'aid': 624343, 'ts': 1661552027429, 'type': 'clicks'}, {'aid': 543308, 'ts': 1661552069889, 'type': 'clicks'}, {'aid': 723612, 'ts': 1661552073985, 'type': 'clicks'}, {'aid': 543308, 'ts': 1661552079343, 'type': 'clicks'}, {'aid': 543308, 'ts': 1661552090532, 'type': 'carts'}, {'aid': 543308, 'ts': 1661552094001, 'type': 'carts'}, {'aid': 442293, 'ts': 1661552175174, 'type': 'clicks'}, {'aid': 442293, 'ts': 1661552201727, 'type': 'carts'}, {'aid': 442293, 'ts': 1661552224613, 'type': 'clicks'}, {'aid': 442293, 'ts': 1661552237234, 'type': 'clicks'}, {'aid': 171073, 'ts': 1661552249672, 'type': 'clicks'}, {'aid': 851778, 'ts': 1661552276235, 'type': 'clicks'}, {'aid': 976134, 'ts': 1661552295471, 'type': 'clicks'}, {'aid': 856506, 'ts': 1661552321092, 'type': 'clicks'}, {'aid': 1549618, 'ts': 1661552356671, 'type': 'carts'}, {'aid': 419161, 'ts': 1661552370948, 'type': 'clicks'}, {'aid': 543308, 'ts': 1661552394168, 'type': 'clicks'}, {'aid': 1549618, 'ts': 1661552536107, 'type': 'clicks'}, {'aid': 760277, 'ts': 1661552615456, 'type': 'clicks'}, {'aid': 1549618, 'ts': 1661552638423, 'type': 'clicks'}, {'aid': 702179, 'ts': 1661552645018, 'type': 'clicks'}, {'aid': 1549618, 'ts': 1661552648034, 'type': 'clicks'}, {'aid': 1587393, 'ts': 1661552650883, 'type': 'clicks'}, {'aid': 76358, 'ts': 1661552661754, 'type': 'clicks'}, {'aid': 1549618, 'ts': 1661552673593, 'type': 'clicks'}, {'aid': 1199474, 'ts': 1661552684092, 'type': 'clicks'}, {'aid': 1199474, 'ts': 1661552744284, 'type': 'carts'}, {'aid': 1386923, 'ts': 1661552755361, 'type': 'clicks'}, {'aid': 1055124, 'ts': 1661552768406, 'type': 'clicks'}, {'aid': 859697, 'ts': 1661552785728, 'type': 'clicks'}, {'aid': 1055124, 'ts': 1661552791386, 'type': 'clicks'}, {'aid': 1386923, 'ts': 1661552794455, 'type': 'clicks'}, {'aid': 1199474, 'ts': 1661552940651, 'type': 'orders'}, {'aid': 543308, 'ts': 1661552940651, 'type': 'orders'}, {'aid': 961113, 'ts': 1661562901716, 'type': 'clicks'}, {'aid': 883849, 'ts': 1661563120145, 'type': 'clicks'}, {'aid': 701766, 'ts': 1661586370237, 'type': 'clicks'}, {'aid': 924751, 'ts': 1661586382407, 'type': 'clicks'}, {'aid': 168206, 'ts': 1661586401880, 'type': 'clicks'}, {'aid': 924751, 'ts': 1661591004580, 'type': 'clicks'}, {'aid': 219033, 'ts': 1661593840839, 'type': 'clicks'}, {'aid': 171982, 'ts': 1661593852385, 'type': 'clicks'}, {'aid': 1319939, 'ts': 1661607646300, 'type': 'clicks'}, {'aid': 1349536, 'ts': 1661607734014, 'type': 'clicks'}, {'aid': 334392, 'ts': 1661607781173, 'type': 'clicks'}, {'aid': 1349536, 'ts': 1661607810151, 'type': 'clicks'}, {'aid': 1349536, 'ts': 1661634295803, 'type': 'clicks'}, {'aid': 165096, 'ts': 1661634321351, 'type': 'clicks'}, {'aid': 315914, 'ts': 1661634351420, 'type': 'clicks'}, {'aid': 315914, 'ts': 1661634431593, 'type': 'carts'}, {'aid': 1680276, 'ts': 1661634664923, 'type': 'clicks'}, {'aid': 1818905, 'ts': 1661634688122, 'type': 'clicks'}, {'aid': 334392, 'ts': 1661634725193, 'type': 'clicks'}, {'aid': 1048797, 'ts': 1661634830704, 'type': 'clicks'}, {'aid': 1048797, 'ts': 1661673496255, 'type': 'clicks'}, {'aid': 543308, 'ts': 1661682228301, 'type': 'clicks'}, {'aid': 341626, 'ts': 1661684136178, 'type': 'clicks'}, {'aid': 219925, 'ts': 1661684258732, 'type': 'clicks'}, {'aid': 843110, 'ts': 1661684298768, 'type': 'clicks'}, {'aid': 938007, 'ts': 1661684355390, 'type': 'clicks'}, {'aid': 1228848, 'ts': 1661684528943, 'type': 'clicks'}, {'aid': 1740927, 'ts': 1661684942173, 'type': 'clicks'}, {'aid': 161938, 'ts': 1661684983707, 'type': 'clicks'}]\n",
      "\n",
      "This session was 276 actions long \n",
      "\n",
      "The first action in the session: \n",
      " {'aid': 1517085, 'ts': 1659304800025, 'type': 'clicks'} \n",
      "\n",
      "The first session elapsed: 27 days, 13:09:43.682000 \n",
      "\n",
      "The first session contains the following frequency of actions: {'clicks': 255, 'carts': 17, 'orders': 4}\n"
     ]
    }
   ],
   "source": [
    "# Let's look at an example session and print out some basic info\n",
    "\n",
    "# Sample the first session in the df\n",
    "example_session = sample_train_df.iloc[0].item()\n",
    "print(example_session)\n",
    "print()\n",
    "print(f'This session was {len(example_session)} actions long \\n')  # => 276 actions\n",
    "print(f'The first action in the session: \\n {example_session[0]} \\n') # the first action of \"session[0]\"!!!\n",
    "\n",
    "# Time of session\n",
    "time_elapsed = example_session[-1][\"ts\"] - example_session[0][\"ts\"] # session[0]의 첫번째와 마지막 action 시간 차이\n",
    "# The timestamp is in milliseconds since 00:00:00 UTC on 1 January 1970\n",
    "## 'timedelta' module\n",
    "print(f'The first session elapsed: {str(timedelta(milliseconds=time_elapsed))} \\n')\n",
    "\n",
    "# Count the frequency of actions within the session\n",
    "action_counts = {}\n",
    "for action in example_session:\n",
    "    # action_counts 딕셔너리에 action['type']이 없으면 디폴트값을 0으로 설정, 있으면 그 값에 1 더하기\n",
    "    action_counts[action['type']] = action_counts.get(action['type'], 0) + 1  \n",
    "\n",
    "print(f'The first session contains the following frequency of actions: {action_counts}')"
   ]
  },
  {
   "cell_type": "markdown",
   "id": "d41e332e",
   "metadata": {
    "execution": {
     "iopub.execute_input": "2022-11-01T23:34:37.808672Z",
     "iopub.status.busy": "2022-11-01T23:34:37.808224Z",
     "iopub.status.idle": "2022-11-01T23:34:37.816409Z",
     "shell.execute_reply": "2022-11-01T23:34:37.814557Z",
     "shell.execute_reply.started": "2022-11-01T23:34:37.808638Z"
    },
    "papermill": {
     "duration": 0.00768,
     "end_time": "2023-01-31T15:52:07.492437",
     "exception": false,
     "start_time": "2023-01-31T15:52:07.484757",
     "status": "completed"
    },
    "tags": []
   },
   "source": [
    "# <span style=\"font-family:verdana; word-spacing:1.5px;\"> Intital EDA 📊"
   ]
  },
  {
   "cell_type": "code",
   "execution_count": 8,
   "id": "a720978c",
   "metadata": {
    "execution": {
     "iopub.execute_input": "2023-01-31T15:52:07.511918Z",
     "iopub.status.busy": "2023-01-31T15:52:07.511471Z",
     "iopub.status.idle": "2023-01-31T15:52:34.990664Z",
     "shell.execute_reply": "2023-01-31T15:52:34.989394Z"
    },
    "papermill": {
     "duration": 27.49154,
     "end_time": "2023-01-31T15:52:34.993793",
     "exception": false,
     "start_time": "2023-01-31T15:52:07.502253",
     "status": "completed"
    },
    "tags": []
   },
   "outputs": [
    {
     "data": {
      "application/vnd.jupyter.widget-view+json": {
       "model_id": "897b008aefde4d79bb5d9f7e5ef6f2c7",
       "version_major": 2,
       "version_minor": 0
      },
      "text/plain": [
       "  0%|          | 0/150000 [00:00<?, ?it/s]"
      ]
     },
     "metadata": {},
     "output_type": "display_data"
    }
   ],
   "source": [
    "### Extract information from each session and add it to the df ###\n",
    "\n",
    "action_counts_list, article_id_counts_list, session_length_time_list, session_length_action_list = ([] for i in range(4))\n",
    "overall_action_counts = {}\n",
    "overall_article_id_counts = {}\n",
    "\n",
    "# iterrows(): (index, row_series)\n",
    "for i, row in tqdm(sample_train_df.iterrows(), total=len(sample_train_df)):\n",
    "    \n",
    "    # ex)  {'aid': 1517085, 'ts': 1659304800025, 'type': 'clicks'} \n",
    "    actions = row['events']\n",
    "    \n",
    "    # Get the frequency of actions and article_ids\n",
    "    action_counts = {}\n",
    "    article_id_counts = {}\n",
    "    for action in actions:\n",
    "        action_counts[action['type']] = action_counts.get(action['type'], 0) + 1\n",
    "        article_id_counts[action['aid']] = article_id_counts.get(action['aid'], 0) + 1\n",
    "        overall_action_counts[action['type']] = overall_action_counts.get(action['type'], 0) + 1\n",
    "        overall_article_id_counts[action['aid']] = overall_article_id_counts.get(action['aid'], 0) + 1\n",
    "        \n",
    "    # Get the length of the session\n",
    "    session_length_time = actions[-1]['ts'] - actions[0]['ts']\n",
    "    \n",
    "    # Add to list, 즉 모든 session에 대해 하나하나 iterate해서 나온 딕셔너리를 모두 list에 추가\n",
    "    action_counts_list.append(action_counts)\n",
    "    article_id_counts_list.append(article_id_counts)\n",
    "    session_length_time_list.append(session_length_time)\n",
    "    session_length_action_list.append(len(actions))\n",
    "    \n",
    "sample_train_df['action_counts'] = action_counts_list\n",
    "sample_train_df['article_id_counts'] = article_id_counts_list\n",
    "sample_train_df['session_length_unix'] = session_length_time_list\n",
    "sample_train_df['session_length_hours'] = sample_train_df['session_length_unix']*2.77778e-7  # Convert to hours\n",
    "sample_train_df['session_length_action'] = session_length_action_list"
   ]
  },
  {
   "cell_type": "code",
   "execution_count": 9,
   "id": "923de19e",
   "metadata": {
    "execution": {
     "iopub.execute_input": "2023-01-31T15:52:35.010403Z",
     "iopub.status.busy": "2023-01-31T15:52:35.009943Z",
     "iopub.status.idle": "2023-01-31T15:52:35.174972Z",
     "shell.execute_reply": "2023-01-31T15:52:35.173624Z"
    },
    "papermill": {
     "duration": 0.176836,
     "end_time": "2023-01-31T15:52:35.178120",
     "exception": false,
     "start_time": "2023-01-31T15:52:35.001284",
     "status": "completed"
    },
    "tags": []
   },
   "outputs": [
    {
     "data": {
      "text/html": [
       "<div>\n",
       "<style scoped>\n",
       "    .dataframe tbody tr th:only-of-type {\n",
       "        vertical-align: middle;\n",
       "    }\n",
       "\n",
       "    .dataframe tbody tr th {\n",
       "        vertical-align: top;\n",
       "    }\n",
       "\n",
       "    .dataframe thead th {\n",
       "        text-align: right;\n",
       "    }\n",
       "</style>\n",
       "<table border=\"1\" class=\"dataframe\">\n",
       "  <thead>\n",
       "    <tr style=\"text-align: right;\">\n",
       "      <th></th>\n",
       "      <th>events</th>\n",
       "      <th>action_counts</th>\n",
       "      <th>article_id_counts</th>\n",
       "      <th>session_length_unix</th>\n",
       "      <th>session_length_hours</th>\n",
       "      <th>session_length_action</th>\n",
       "    </tr>\n",
       "    <tr>\n",
       "      <th>session</th>\n",
       "      <th></th>\n",
       "      <th></th>\n",
       "      <th></th>\n",
       "      <th></th>\n",
       "      <th></th>\n",
       "      <th></th>\n",
       "    </tr>\n",
       "  </thead>\n",
       "  <tbody>\n",
       "    <tr>\n",
       "      <th>0</th>\n",
       "      <td>[{'aid': 1517085, 'ts': 1659304800025, 'type':...</td>\n",
       "      <td>{'clicks': 255, 'carts': 17, 'orders': 4}</td>\n",
       "      <td>{1517085: 1, 1563459: 1, 1309446: 1, 16246: 1,...</td>\n",
       "      <td>2380183682</td>\n",
       "      <td>661.162663</td>\n",
       "      <td>276</td>\n",
       "    </tr>\n",
       "    <tr>\n",
       "      <th>1</th>\n",
       "      <td>[{'aid': 424964, 'ts': 1659304800025, 'type': ...</td>\n",
       "      <td>{'carts': 8, 'clicks': 24}</td>\n",
       "      <td>{424964: 2, 1492293: 2, 910862: 2, 1491172: 2,...</td>\n",
       "      <td>2410054967</td>\n",
       "      <td>669.460249</td>\n",
       "      <td>32</td>\n",
       "    </tr>\n",
       "    <tr>\n",
       "      <th>2</th>\n",
       "      <td>[{'aid': 763743, 'ts': 1659304800038, 'type': ...</td>\n",
       "      <td>{'clicks': 32, 'carts': 1}</td>\n",
       "      <td>{763743: 1, 137492: 2, 504789: 1, 795863: 2, 3...</td>\n",
       "      <td>2409415621</td>\n",
       "      <td>669.282652</td>\n",
       "      <td>33</td>\n",
       "    </tr>\n",
       "    <tr>\n",
       "      <th>3</th>\n",
       "      <td>[{'aid': 1425967, 'ts': 1659304800095, 'type':...</td>\n",
       "      <td>{'carts': 21, 'clicks': 200, 'orders': 5}</td>\n",
       "      <td>{1425967: 6, 1343406: 14, 1815570: 1, 287008: ...</td>\n",
       "      <td>1804866676</td>\n",
       "      <td>501.352256</td>\n",
       "      <td>226</td>\n",
       "    </tr>\n",
       "    <tr>\n",
       "      <th>4</th>\n",
       "      <td>[{'aid': 613619, 'ts': 1659304800119, 'type': ...</td>\n",
       "      <td>{'clicks': 15, 'orders': 1, 'carts': 3}</td>\n",
       "      <td>{613619: 1, 298827: 2, 383828: 2, 255379: 2, 1...</td>\n",
       "      <td>2281881184</td>\n",
       "      <td>633.856392</td>\n",
       "      <td>19</td>\n",
       "    </tr>\n",
       "    <tr>\n",
       "      <th>...</th>\n",
       "      <td>...</td>\n",
       "      <td>...</td>\n",
       "      <td>...</td>\n",
       "      <td>...</td>\n",
       "      <td>...</td>\n",
       "      <td>...</td>\n",
       "    </tr>\n",
       "    <tr>\n",
       "      <th>149995</th>\n",
       "      <td>[{'aid': 443027, 'ts': 1659332465408, 'type': ...</td>\n",
       "      <td>{'clicks': 2}</td>\n",
       "      <td>{443027: 1, 1307228: 1}</td>\n",
       "      <td>147008</td>\n",
       "      <td>0.040836</td>\n",
       "      <td>2</td>\n",
       "    </tr>\n",
       "    <tr>\n",
       "      <th>149996</th>\n",
       "      <td>[{'aid': 1849006, 'ts': 1659332465484, 'type':...</td>\n",
       "      <td>{'clicks': 102}</td>\n",
       "      <td>{1849006: 1, 730780: 2, 380958: 1, 1233996: 1,...</td>\n",
       "      <td>2303119022</td>\n",
       "      <td>639.755796</td>\n",
       "      <td>102</td>\n",
       "    </tr>\n",
       "    <tr>\n",
       "      <th>149997</th>\n",
       "      <td>[{'aid': 135905, 'ts': 1659332465575, 'type': ...</td>\n",
       "      <td>{'clicks': 35}</td>\n",
       "      <td>{135905: 1, 475292: 2, 891341: 2, 1130018: 1, ...</td>\n",
       "      <td>2032976765</td>\n",
       "      <td>564.716220</td>\n",
       "      <td>35</td>\n",
       "    </tr>\n",
       "    <tr>\n",
       "      <th>149998</th>\n",
       "      <td>[{'aid': 288928, 'ts': 1659332465804, 'type': ...</td>\n",
       "      <td>{'clicks': 2}</td>\n",
       "      <td>{288928: 1, 752186: 1}</td>\n",
       "      <td>124409</td>\n",
       "      <td>0.034558</td>\n",
       "      <td>2</td>\n",
       "    </tr>\n",
       "    <tr>\n",
       "      <th>149999</th>\n",
       "      <td>[{'aid': 1752139, 'ts': 1659332465811, 'type':...</td>\n",
       "      <td>{'clicks': 4}</td>\n",
       "      <td>{1752139: 1, 276163: 1, 1617030: 1, 674554: 1}</td>\n",
       "      <td>800209694</td>\n",
       "      <td>222.280648</td>\n",
       "      <td>4</td>\n",
       "    </tr>\n",
       "  </tbody>\n",
       "</table>\n",
       "<p>150000 rows × 6 columns</p>\n",
       "</div>"
      ],
      "text/plain": [
       "                                                    events  \\\n",
       "session                                                      \n",
       "0        [{'aid': 1517085, 'ts': 1659304800025, 'type':...   \n",
       "1        [{'aid': 424964, 'ts': 1659304800025, 'type': ...   \n",
       "2        [{'aid': 763743, 'ts': 1659304800038, 'type': ...   \n",
       "3        [{'aid': 1425967, 'ts': 1659304800095, 'type':...   \n",
       "4        [{'aid': 613619, 'ts': 1659304800119, 'type': ...   \n",
       "...                                                    ...   \n",
       "149995   [{'aid': 443027, 'ts': 1659332465408, 'type': ...   \n",
       "149996   [{'aid': 1849006, 'ts': 1659332465484, 'type':...   \n",
       "149997   [{'aid': 135905, 'ts': 1659332465575, 'type': ...   \n",
       "149998   [{'aid': 288928, 'ts': 1659332465804, 'type': ...   \n",
       "149999   [{'aid': 1752139, 'ts': 1659332465811, 'type':...   \n",
       "\n",
       "                                     action_counts  \\\n",
       "session                                              \n",
       "0        {'clicks': 255, 'carts': 17, 'orders': 4}   \n",
       "1                       {'carts': 8, 'clicks': 24}   \n",
       "2                       {'clicks': 32, 'carts': 1}   \n",
       "3        {'carts': 21, 'clicks': 200, 'orders': 5}   \n",
       "4          {'clicks': 15, 'orders': 1, 'carts': 3}   \n",
       "...                                            ...   \n",
       "149995                               {'clicks': 2}   \n",
       "149996                             {'clicks': 102}   \n",
       "149997                              {'clicks': 35}   \n",
       "149998                               {'clicks': 2}   \n",
       "149999                               {'clicks': 4}   \n",
       "\n",
       "                                         article_id_counts  \\\n",
       "session                                                      \n",
       "0        {1517085: 1, 1563459: 1, 1309446: 1, 16246: 1,...   \n",
       "1        {424964: 2, 1492293: 2, 910862: 2, 1491172: 2,...   \n",
       "2        {763743: 1, 137492: 2, 504789: 1, 795863: 2, 3...   \n",
       "3        {1425967: 6, 1343406: 14, 1815570: 1, 287008: ...   \n",
       "4        {613619: 1, 298827: 2, 383828: 2, 255379: 2, 1...   \n",
       "...                                                    ...   \n",
       "149995                             {443027: 1, 1307228: 1}   \n",
       "149996   {1849006: 1, 730780: 2, 380958: 1, 1233996: 1,...   \n",
       "149997   {135905: 1, 475292: 2, 891341: 2, 1130018: 1, ...   \n",
       "149998                              {288928: 1, 752186: 1}   \n",
       "149999      {1752139: 1, 276163: 1, 1617030: 1, 674554: 1}   \n",
       "\n",
       "         session_length_unix  session_length_hours  session_length_action  \n",
       "session                                                                    \n",
       "0                 2380183682            661.162663                    276  \n",
       "1                 2410054967            669.460249                     32  \n",
       "2                 2409415621            669.282652                     33  \n",
       "3                 1804866676            501.352256                    226  \n",
       "4                 2281881184            633.856392                     19  \n",
       "...                      ...                   ...                    ...  \n",
       "149995                147008              0.040836                      2  \n",
       "149996            2303119022            639.755796                    102  \n",
       "149997            2032976765            564.716220                     35  \n",
       "149998                124409              0.034558                      2  \n",
       "149999             800209694            222.280648                      4  \n",
       "\n",
       "[150000 rows x 6 columns]"
      ]
     },
     "execution_count": 9,
     "metadata": {},
     "output_type": "execute_result"
    }
   ],
   "source": [
    "# events: all of the events for each session, and 'session_length_action' column shows the number of events in each session.\n",
    "sample_train_df"
   ]
  },
  {
   "cell_type": "code",
   "execution_count": 10,
   "id": "e03bd8de",
   "metadata": {
    "execution": {
     "iopub.execute_input": "2023-01-31T15:52:35.196030Z",
     "iopub.status.busy": "2023-01-31T15:52:35.195636Z",
     "iopub.status.idle": "2023-01-31T15:52:35.456123Z",
     "shell.execute_reply": "2023-01-31T15:52:35.454721Z"
    },
    "papermill": {
     "duration": 0.27236,
     "end_time": "2023-01-31T15:52:35.458720",
     "exception": false,
     "start_time": "2023-01-31T15:52:35.186360",
     "status": "completed"
    },
    "tags": []
   },
   "outputs": [
    {
     "data": {
      "image/png": "[encoded data removed]",
      "text/plain": [
       "<Figure size 576x432 with 1 Axes>"
      ]
     },
     "metadata": {},
     "output_type": "display_data"
    }
   ],
   "source": [
    "### Actions ###\n",
    "\n",
    "total_actions = sum(overall_action_counts.values())\n",
    "\n",
    "plt.figure(figsize=(8,6))\n",
    "# y: the ratio(frequency) of each action\n",
    "sns.barplot(x=list(overall_action_counts.keys()), y=[i/total_actions for i in overall_action_counts.values()]);\n",
    "plt.title(f'Action frequency', fontsize=12)\n",
    "plt.ylabel('Count', fontsize=12)\n",
    "plt.xlabel('Category', fontsize=12)\n",
    "plt.show()"
   ]
  },
  {
   "cell_type": "code",
   "execution_count": 11,
   "id": "d3e25569",
   "metadata": {
    "execution": {
     "iopub.execute_input": "2023-01-31T15:52:35.476809Z",
     "iopub.status.busy": "2023-01-31T15:52:35.476376Z",
     "iopub.status.idle": "2023-01-31T15:52:36.413930Z",
     "shell.execute_reply": "2023-01-31T15:52:36.412682Z"
    },
    "papermill": {
     "duration": 0.949799,
     "end_time": "2023-01-31T15:52:36.416740",
     "exception": false,
     "start_time": "2023-01-31T15:52:35.466941",
     "status": "completed"
    },
    "tags": []
   },
   "outputs": [
    {
     "data": {
      "image/png": "[encoded data removed]",
      "text/plain": [
       "<Figure size 1728x720 with 2 Axes>"
      ]
     },
     "metadata": {},
     "output_type": "display_data"
    }
   ],
   "source": [
    "# 이룰어진 action의 개수와 각 섹션의 시간 길이 분포\n",
    "fig, ax = plt.subplots(1,2, figsize=(24, 10))\n",
    "\n",
    "p = sns.distplot(sample_train_df['session_length_action'], color=\"y\", bins= 70, ax=ax[0], kde=False)\n",
    "p.set_xlabel(\"Number of actions\", fontsize = 16)\n",
    "p.set_ylabel(\"Density\", fontsize = 16)\n",
    "p.set_title(\"Distribution of the number of actions taken in each session\", fontsize = 14)\n",
    "p.axvline(sample_train_df['session_length_action'].mean(), color='r', linestyle='--', label=\"Mean\")\n",
    "\n",
    "p = sns.distplot(sample_train_df['session_length_hours'], color=\"b\", bins= 70, ax=ax[1], kde=False)\n",
    "p.set_xlabel(\"Hours\", fontsize = 16)\n",
    "p.set_ylabel(\"Density\", fontsize = 16)\n",
    "p.set_title(\"Length of each session\", fontsize = 16);"
   ]
  },
  {
   "cell_type": "markdown",
   "id": "81932629",
   "metadata": {
    "papermill": {
     "duration": 0.008335,
     "end_time": "2023-01-31T15:52:36.434006",
     "exception": false,
     "start_time": "2023-01-31T15:52:36.425671",
     "status": "completed"
    },
    "tags": []
   },
   "source": [
    "Something seems a bit odd with the minutes plot. All the sessions are capped at 650 hours - this needs looking into .. 🤔"
   ]
  },
  {
   "cell_type": "code",
   "execution_count": 12,
   "id": "7bb1c484",
   "metadata": {
    "execution": {
     "iopub.execute_input": "2023-01-31T15:52:36.453122Z",
     "iopub.status.busy": "2023-01-31T15:52:36.452704Z",
     "iopub.status.idle": "2023-01-31T15:52:36.521959Z",
     "shell.execute_reply": "2023-01-31T15:52:36.520439Z"
    },
    "papermill": {
     "duration": 0.083521,
     "end_time": "2023-01-31T15:52:36.525938",
     "exception": false,
     "start_time": "2023-01-31T15:52:36.442417",
     "status": "completed"
    },
    "tags": []
   },
   "outputs": [
    {
     "name": "stdout",
     "output_type": "stream",
     "text": [
      "34.8% of the sessions had less than 10 actions\n"
     ]
    }
   ],
   "source": [
    "print(f'{round(len(sample_train_df[sample_train_df[\"session_length_action\"]<10])/len(sample_train_df),3)*100}% of the sessions had less than 10 actions')"
   ]
  },
  {
   "cell_type": "code",
   "execution_count": 13,
   "id": "acb291ee",
   "metadata": {
    "execution": {
     "iopub.execute_input": "2023-01-31T15:52:36.546531Z",
     "iopub.status.busy": "2023-01-31T15:52:36.546048Z",
     "iopub.status.idle": "2023-01-31T15:52:40.294143Z",
     "shell.execute_reply": "2023-01-31T15:52:40.292429Z"
    },
    "papermill": {
     "duration": 3.761573,
     "end_time": "2023-01-31T15:52:40.297158",
     "exception": false,
     "start_time": "2023-01-31T15:52:36.535585",
     "status": "completed"
    },
    "tags": []
   },
   "outputs": [
    {
     "data": {
      "image/png": "[encoded data removed]",
      "text/plain": [
       "<Figure size 576x432 with 1 Axes>"
      ]
     },
     "metadata": {},
     "output_type": "display_data"
    }
   ],
   "source": [
    "article_id_freq = list(overall_article_id_counts.values())\n",
    "cut_off = [i for i in article_id_freq if i<30]\n",
    "\n",
    "plt.figure(figsize=(8,6))\n",
    "# 전체 article_id 개수가 30개보다 적은 것들의 분포 그래프\n",
    "sns.distplot(cut_off, bins=30, kde = True)\n",
    "## kde: 커널밀도추정, 밀집도그래프를 같이 보여줄 것인지\n",
    "plt.title(f'Article ID frequency', fontsize=12)\n",
    "plt.ylabel('Count', fontsize=12)\n",
    "plt.xlabel('Article', fontsize=12);"
   ]
  },
  {
   "cell_type": "markdown",
   "id": "2cb32153",
   "metadata": {
    "execution": {
     "iopub.execute_input": "2022-11-02T00:44:03.272395Z",
     "iopub.status.busy": "2022-11-02T00:44:03.271921Z",
     "iopub.status.idle": "2022-11-02T00:44:03.565989Z",
     "shell.execute_reply": "2022-11-02T00:44:03.564369Z",
     "shell.execute_reply.started": "2022-11-02T00:44:03.272355Z"
    },
    "papermill": {
     "duration": 0.009857,
     "end_time": "2023-01-31T15:52:40.317713",
     "exception": false,
     "start_time": "2023-01-31T15:52:40.307856",
     "status": "completed"
    },
    "tags": []
   },
   "source": [
    "As we can see from the plot above the vast majority of articles have a very small number of actions relating to them. There are some exceptions.."
   ]
  },
  {
   "cell_type": "code",
   "execution_count": 14,
   "id": "fa65cc1c",
   "metadata": {
    "execution": {
     "iopub.execute_input": "2023-01-31T15:52:40.337942Z",
     "iopub.status.busy": "2023-01-31T15:52:40.337552Z",
     "iopub.status.idle": "2023-01-31T15:52:40.724388Z",
     "shell.execute_reply": "2023-01-31T15:52:40.722867Z"
    },
    "papermill": {
     "duration": 0.400266,
     "end_time": "2023-01-31T15:52:40.727109",
     "exception": false,
     "start_time": "2023-01-31T15:52:40.326843",
     "status": "completed"
    },
    "tags": []
   },
   "outputs": [
    {
     "name": "stdout",
     "output_type": "stream",
     "text": [
      "Frequency of most common articles: [3877, 4259, 4323, 4503, 5000] \n",
      "\n",
      "IDs for those common articles: [29735, 1603001, 832192, 1733943, 108125]\n"
     ]
    }
   ],
   "source": [
    "### Look at the most interacted with articles ###\n",
    "# 오름차순 정렬해서 끝에서부터 5개, 즉 상위 5개 추출\n",
    "print(f'Frequency of most common articles: {sorted(list(overall_article_id_counts.values()))[-5:]} \\n')\n",
    "\n",
    "# nlargest():  데이터를 오름차순/내림차순(nsmallest) 정렬 후, 위에서 n개의 행을 출력하는 메서드\n",
    "## df.nlargest(n, columns, keep='first:동일한 값일 경우 위에서부터 출력')\n",
    "res = nlargest(5, overall_article_id_counts, key = overall_article_id_counts.get)\n",
    "print(f'IDs for those common articles: {res}')"
   ]
  }
 ],
 "metadata": {
  "kernelspec": {
   "display_name": "Python 3",
   "language": "python",
   "name": "python3"
  },
  "language_info": {
   "codemirror_mode": {
    "name": "ipython",
    "version": 3
   },
   "file_extension": ".py",
   "mimetype": "text/x-python",
   "name": "python",
   "nbconvert_exporter": "python",
   "pygments_lexer": "ipython3",
   "version": "3.7.12"
  },
  "papermill": {
   "default_parameters": {},
   "duration": 225.144002,
   "end_time": "2023-01-31T15:52:44.868039",
   "environment_variables": {},
   "exception": null,
   "input_path": "__notebook__.ipynb",
   "output_path": "__notebook__.ipynb",
   "parameters": {},
   "start_time": "2023-01-31T15:48:59.724037",
   "version": "2.3.4"
  },
  "widgets": {
   "application/vnd.jupyter.widget-state+json": {
    "state": {
     "3366d40aac5f49bca67ae0eb08cfd0a9": {
      "model_module": "@jupyter-widgets/controls",
      "model_module_version": "1.5.0",
      "model_name": "DescriptionStyleModel",
      "state": {
       "_model_module": "@jupyter-widgets/controls",
       "_model_module_version": "1.5.0",
       "_model_name": "DescriptionStyleModel",
       "_view_count": null,
       "_view_module": "@jupyter-widgets/base",
       "_view_module_version": "1.2.0",
       "_view_name": "StyleView",
       "description_width": ""
      }
     },
     "4a3594d0b54946468527a1285b5295ff": {
      "model_module": "@jupyter-widgets/base",
      "model_module_version": "1.2.0",
      "model_name": "LayoutModel",
      "state": {
       "_model_module": "@jupyter-widgets/base",
       "_model_module_version": "1.2.0",
       "_model_name": "LayoutModel",
       "_view_count": null,
       "_view_module": "@jupyter-widgets/base",
       "_view_module_version": "1.2.0",
       "_view_name": "LayoutView",
       "align_content": null,
       "align_items": null,
       "align_self": null,
       "border": null,
       "bottom": null,
       "display": null,
       "flex": null,
       "flex_flow": null,
       "grid_area": null,
       "grid_auto_columns": null,
       "grid_auto_flow": null,
       "grid_auto_rows": null,
       "grid_column": null,
       "grid_gap": null,
       "grid_row": null,
       "grid_template_areas": null,
       "grid_template_columns": null,
       "grid_template_rows": null,
       "height": null,
       "justify_content": null,
       "justify_items": null,
       "left": null,
       "margin": null,
       "max_height": null,
       "max_width": null,
       "min_height": null,
       "min_width": null,
       "object_fit": null,
       "object_position": null,
       "order": null,
       "overflow": null,
       "overflow_x": null,
       "overflow_y": null,
       "padding": null,
       "right": null,
       "top": null,
       "visibility": null,
       "width": null
      }
     },
     "4cd96780fda84f9b810bf2ff29ff1abd": {
      "model_module": "@jupyter-widgets/base",
      "model_module_version": "1.2.0",
      "model_name": "LayoutModel",
      "state": {
       "_model_module": "@jupyter-widgets/base",
       "_model_module_version": "1.2.0",
       "_model_name": "LayoutModel",
       "_view_count": null,
       "_view_module": "@jupyter-widgets/base",
       "_view_module_version": "1.2.0",
       "_view_name": "LayoutView",
       "align_content": null,
       "align_items": null,
       "align_self": null,
       "border": null,
       "bottom": null,
       "display": null,
       "flex": null,
       "flex_flow": null,
       "grid_area": null,
       "grid_auto_columns": null,
       "grid_auto_flow": null,
       "grid_auto_rows": null,
       "grid_column": null,
       "grid_gap": null,
       "grid_row": null,
       "grid_template_areas": null,
       "grid_template_columns": null,
       "grid_template_rows": null,
       "height": null,
       "justify_content": null,
       "justify_items": null,
       "left": null,
       "margin": null,
       "max_height": null,
       "max_width": null,
       "min_height": null,
       "min_width": null,
       "object_fit": null,
       "object_position": null,
       "order": null,
       "overflow": null,
       "overflow_x": null,
       "overflow_y": null,
       "padding": null,
       "right": null,
       "top": null,
       "visibility": null,
       "width": null
      }
     },
     "897b008aefde4d79bb5d9f7e5ef6f2c7": {
      "model_module": "@jupyter-widgets/controls",
      "model_module_version": "1.5.0",
      "model_name": "HBoxModel",
      "state": {
       "_dom_classes": [],
       "_model_module": "@jupyter-widgets/controls",
       "_model_module_version": "1.5.0",
       "_model_name": "HBoxModel",
       "_view_count": null,
       "_view_module": "@jupyter-widgets/controls",
       "_view_module_version": "1.5.0",
       "_view_name": "HBoxView",
       "box_style": "",
       "children": [
        "IPY_MODEL_ade1e8e3d7e54d1e87b2c03fc1805fd3",
        "IPY_MODEL_dc773e3e3a85447c82d23fb9566c1d4c",
        "IPY_MODEL_a77c3d4305a64c06856872148ab2397e"
       ],
       "layout": "IPY_MODEL_4a3594d0b54946468527a1285b5295ff"
      }
     },
     "8a7a30daf5034e078ab3e17f28af5018": {
      "model_module": "@jupyter-widgets/base",
      "model_module_version": "1.2.0",
      "model_name": "LayoutModel",
      "state": {
       "_model_module": "@jupyter-widgets/base",
       "_model_module_version": "1.2.0",
       "_model_name": "LayoutModel",
       "_view_count": null,
       "_view_module": "@jupyter-widgets/base",
       "_view_module_version": "1.2.0",
       "_view_name": "LayoutView",
       "align_content": null,
       "align_items": null,
       "align_self": null,
       "border": null,
       "bottom": null,
       "display": null,
       "flex": null,
       "flex_flow": null,
       "grid_area": null,
       "grid_auto_columns": null,
       "grid_auto_flow": null,
       "grid_auto_rows": null,
       "grid_column": null,
       "grid_gap": null,
       "grid_row": null,
       "grid_template_areas": null,
       "grid_template_columns": null,
       "grid_template_rows": null,
       "height": null,
       "justify_content": null,
       "justify_items": null,
       "left": null,
       "margin": null,
       "max_height": null,
       "max_width": null,
       "min_height": null,
       "min_width": null,
       "object_fit": null,
       "object_position": null,
       "order": null,
       "overflow": null,
       "overflow_x": null,
       "overflow_y": null,
       "padding": null,
       "right": null,
       "top": null,
       "visibility": null,
       "width": null
      }
     },
     "8e8f600ec4b545a9b6cf6f2df77c86df": {
      "model_module": "@jupyter-widgets/controls",
      "model_module_version": "1.5.0",
      "model_name": "DescriptionStyleModel",
      "state": {
       "_model_module": "@jupyter-widgets/controls",
       "_model_module_version": "1.5.0",
       "_model_name": "DescriptionStyleModel",
       "_view_count": null,
       "_view_module": "@jupyter-widgets/base",
       "_view_module_version": "1.2.0",
       "_view_name": "StyleView",
       "description_width": ""
      }
     },
     "a77c3d4305a64c06856872148ab2397e": {
      "model_module": "@jupyter-widgets/controls",
      "model_module_version": "1.5.0",
      "model_name": "HTMLModel",
      "state": {
       "_dom_classes": [],
       "_model_module": "@jupyter-widgets/controls",
       "_model_module_version": "1.5.0",
       "_model_name": "HTMLModel",
       "_view_count": null,
       "_view_module": "@jupyter-widgets/controls",
       "_view_module_version": "1.5.0",
       "_view_name": "HTMLView",
       "description": "",
       "description_tooltip": null,
       "layout": "IPY_MODEL_e4f100b761364f998e13b4b49e8146df",
       "placeholder": "​",
       "style": "IPY_MODEL_8e8f600ec4b545a9b6cf6f2df77c86df",
       "value": " 150000/150000 [00:27&lt;00:00, 5529.65it/s]"
      }
     },
     "ade1e8e3d7e54d1e87b2c03fc1805fd3": {
      "model_module": "@jupyter-widgets/controls",
      "model_module_version": "1.5.0",
      "model_name": "HTMLModel",
      "state": {
       "_dom_classes": [],
       "_model_module": "@jupyter-widgets/controls",
       "_model_module_version": "1.5.0",
       "_model_name": "HTMLModel",
       "_view_count": null,
       "_view_module": "@jupyter-widgets/controls",
       "_view_module_version": "1.5.0",
       "_view_name": "HTMLView",
       "description": "",
       "description_tooltip": null,
       "layout": "IPY_MODEL_4cd96780fda84f9b810bf2ff29ff1abd",
       "placeholder": "​",
       "style": "IPY_MODEL_3366d40aac5f49bca67ae0eb08cfd0a9",
       "value": "100%"
      }
     },
     "dc773e3e3a85447c82d23fb9566c1d4c": {
      "model_module": "@jupyter-widgets/controls",
      "model_module_version": "1.5.0",
      "model_name": "FloatProgressModel",
      "state": {
       "_dom_classes": [],
       "_model_module": "@jupyter-widgets/controls",
       "_model_module_version": "1.5.0",
       "_model_name": "FloatProgressModel",
       "_view_count": null,
       "_view_module": "@jupyter-widgets/controls",
       "_view_module_version": "1.5.0",
       "_view_name": "ProgressView",
       "bar_style": "success",
       "description": "",
       "description_tooltip": null,
       "layout": "IPY_MODEL_8a7a30daf5034e078ab3e17f28af5018",
       "max": 150000.0,
       "min": 0.0,
       "orientation": "horizontal",
       "style": "IPY_MODEL_e2d7931576b040939964c620efe3ecf6",
       "value": 150000.0
      }
     },
     "e2d7931576b040939964c620efe3ecf6": {
      "model_module": "@jupyter-widgets/controls",
      "model_module_version": "1.5.0",
      "model_name": "ProgressStyleModel",
      "state": {
       "_model_module": "@jupyter-widgets/controls",
       "_model_module_version": "1.5.0",
       "_model_name": "ProgressStyleModel",
       "_view_count": null,
       "_view_module": "@jupyter-widgets/base",
       "_view_module_version": "1.2.0",
       "_view_name": "StyleView",
       "bar_color": null,
       "description_width": ""
      }
     },
     "e4f100b761364f998e13b4b49e8146df": {
      "model_module": "@jupyter-widgets/base",
      "model_module_version": "1.2.0",
      "model_name": "LayoutModel",
      "state": {
       "_model_module": "@jupyter-widgets/base",
       "_model_module_version": "1.2.0",
       "_model_name": "LayoutModel",
       "_view_count": null,
       "_view_module": "@jupyter-widgets/base",
       "_view_module_version": "1.2.0",
       "_view_name": "LayoutView",
       "align_content": null,
       "align_items": null,
       "align_self": null,
       "border": null,
       "bottom": null,
       "display": null,
       "flex": null,
       "flex_flow": null,
       "grid_area": null,
       "grid_auto_columns": null,
       "grid_auto_flow": null,
       "grid_auto_rows": null,
       "grid_column": null,
       "grid_gap": null,
       "grid_row": null,
       "grid_template_areas": null,
       "grid_template_columns": null,
       "grid_template_rows": null,
       "height": null,
       "justify_content": null,
       "justify_items": null,
       "left": null,
       "margin": null,
       "max_height": null,
       "max_width": null,
       "min_height": null,
       "min_width": null,
       "object_fit": null,
       "object_position": null,
       "order": null,
       "overflow": null,
       "overflow_x": null,
       "overflow_y": null,
       "padding": null,
       "right": null,
       "top": null,
       "visibility": null,
       "width": null
      }
     }
    },
    "version_major": 2,
    "version_minor": 0
   }
  }
 },
 "nbformat": 4,
 "nbformat_minor": 5
}
